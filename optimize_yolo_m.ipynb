{
 "cells": [
  {
   "cell_type": "markdown",
   "id": "872f0f63-778c-4cf1-8e36-517217a68c26",
   "metadata": {},
   "source": [
    "## OpenVIVO Export"
   ]
  },
  {
   "cell_type": "code",
   "execution_count": 20,
   "id": "704e8a36-00e2-4037-ac47-0ade843b4fe8",
   "metadata": {},
   "outputs": [
    {
     "name": "stdout",
     "output_type": "stream",
     "text": [
      "Ultralytics YOLOv8.0.163 🚀 Python-3.9.17 torch-2.0.1+cu117 CPU (AMD Ryzen 7 5700X 8-Core Processor)\n",
      "Model summary (fused): 218 layers, 25843234 parameters, 0 gradients\n",
      "\n",
      "\u001b[34m\u001b[1mPyTorch:\u001b[0m starting from 'yolo/runs/detect/round_1/train_m/weights/best.pt' with input shape (1, 3, 1024, 1024) BCHW and output shape(s) (1, 10, 21504) (49.6 MB)\n",
      "\n",
      "\u001b[34m\u001b[1mONNX:\u001b[0m starting export with onnx 1.14.1 opset 17...\n",
      "============= Diagnostic Run torch.onnx.export version 2.0.1+cu117 =============\n",
      "verbose: False, log level: Level.ERROR\n",
      "======================= 0 NONE 0 NOTE 0 WARNING 0 ERROR ========================\n",
      "\n",
      "\u001b[34m\u001b[1mONNX:\u001b[0m export success ✅ 1.5s, saved as 'yolo/runs/detect/round_1/train_m/weights/best.onnx' (99.1 MB)\n",
      "\n",
      "\u001b[34m\u001b[1mOpenVINO:\u001b[0m starting export with openvino 2023.0.1-11005-fa1c41994f3-releases/2023/0...\n",
      "\u001b[34m\u001b[1mOpenVINO:\u001b[0m export success ✅ 0.7s, saved as 'yolo/runs/detect/round_1/train_m/weights/best_openvino_model/' (99.1 MB)\n",
      "\n",
      "Export complete (4.2s)\n",
      "Results saved to \u001b[1m/home/cemmi/Documents/aicrowd-mos/Mosquito-Classifiction/yolo/runs/detect/round_1/train_m/weights\u001b[0m\n",
      "Predict:         yolo predict task=detect model=yolo/runs/detect/round_1/train_m/weights/best_openvino_model imgsz=1024 \n",
      "Validate:        yolo val task=detect model=yolo/runs/detect/round_1/train_m/weights/best_openvino_model imgsz=1024 data=./yolo_config_mos.yml \n",
      "Visualize:       https://netron.app\n",
      "mv: cannot move 'yolo/runs/detect/round_1/train_m/weights/best_openvino_model' to 'yolo/runs/detect/round_1/train_m/weights/best_openvino_model_1024_half/best_openvino_model': Directory not empty\n"
     ]
    }
   ],
   "source": [
    "!yolo export model=yolo/runs/detect/round_1/train_m/weights/best.pt format=openvino imgsz=1024 half\n",
    "!mv yolo/runs/detect/round_1/train_m/weights/best_openvino_model yolo/runs/detect/round_1/train_m/weights/best_openvino_model_1024_half"
   ]
  },
  {
   "cell_type": "code",
   "execution_count": 4,
   "id": "50f5801f-5943-4591-837e-1452f5a9d991",
   "metadata": {},
   "outputs": [
    {
     "name": "stdout",
     "output_type": "stream",
     "text": [
      "Ultralytics YOLOv8.0.163 🚀 Python-3.9.17 torch-2.0.1+cu117 CPU (AMD Ryzen 7 5700X 8-Core Processor)\n",
      "Model summary (fused): 218 layers, 25843234 parameters, 0 gradients\n",
      "\n",
      "\u001b[34m\u001b[1mPyTorch:\u001b[0m starting from 'yolo/runs/detect/round_1/train_m/weights/best.pt' with input shape (1, 3, 640, 640) BCHW and output shape(s) (1, 10, 8400) (49.6 MB)\n",
      "\n",
      "\u001b[34m\u001b[1mONNX:\u001b[0m starting export with onnx 1.14.1 opset 17...\n",
      "============= Diagnostic Run torch.onnx.export version 2.0.1+cu117 =============\n",
      "verbose: False, log level: Level.ERROR\n",
      "======================= 0 NONE 0 NOTE 0 WARNING 0 ERROR ========================\n",
      "\n",
      "\u001b[34m\u001b[1mONNX:\u001b[0m export success ✅ 1.2s, saved as 'yolo/runs/detect/round_1/train_m/weights/best.onnx' (98.8 MB)\n",
      "\n",
      "\u001b[34m\u001b[1mOpenVINO:\u001b[0m starting export with openvino 2023.0.1-11005-fa1c41994f3-releases/2023/0...\n",
      "\u001b[34m\u001b[1mOpenVINO:\u001b[0m export success ✅ 1.0s, saved as 'yolo/runs/detect/round_1/train_m/weights/best_openvino_model/' (49.7 MB)\n",
      "\n",
      "Export complete (3.7s)\n",
      "Results saved to \u001b[1m/home/cemmi/Documents/aicrowd-mos/Mosquito-Classifiction/yolo/runs/detect/round_1/train_m/weights\u001b[0m\n",
      "Predict:         yolo predict task=detect model=yolo/runs/detect/round_1/train_m/weights/best_openvino_model imgsz=640 \n",
      "Validate:        yolo val task=detect model=yolo/runs/detect/round_1/train_m/weights/best_openvino_model imgsz=640 data=./yolo_config_mos.yml \n",
      "Visualize:       https://netron.app\n"
     ]
    }
   ],
   "source": [
    "!yolo task=detect mode=export model=yolo/runs/detect/round_1/train_m/weights/best.pt format=openvino imgsz=640 half=True\n",
    "!mv yolo/runs/detect/round_1/train_m/weights/best_openvino_model yolo/runs/detect/round_1/train_m/weights/best_openvino_model_640_half"
   ]
  },
  {
   "cell_type": "code",
   "execution_count": 5,
   "id": "b91b66c7-dd59-4284-9a38-2f8559ee7d92",
   "metadata": {},
   "outputs": [
    {
     "name": "stdout",
     "output_type": "stream",
     "text": [
      "Ultralytics YOLOv8.0.163 🚀 Python-3.9.17 torch-2.0.1+cu117 CPU (AMD Ryzen 7 5700X 8-Core Processor)\n",
      "Model summary (fused): 218 layers, 25843234 parameters, 0 gradients\n",
      "\n",
      "\u001b[34m\u001b[1mPyTorch:\u001b[0m starting from 'yolo/runs/detect/round_1/train_m/weights/best.pt' with input shape (1, 3, 512, 512) BCHW and output shape(s) (1, 10, 5376) (49.6 MB)\n",
      "\n",
      "\u001b[34m\u001b[1mONNX:\u001b[0m starting export with onnx 1.14.1 opset 17...\n",
      "============= Diagnostic Run torch.onnx.export version 2.0.1+cu117 =============\n",
      "verbose: False, log level: Level.ERROR\n",
      "======================= 0 NONE 0 NOTE 0 WARNING 0 ERROR ========================\n",
      "\n",
      "\u001b[34m\u001b[1mONNX:\u001b[0m export success ✅ 1.1s, saved as 'yolo/runs/detect/round_1/train_m/weights/best.onnx' (98.7 MB)\n",
      "\n",
      "\u001b[34m\u001b[1mOpenVINO:\u001b[0m starting export with openvino 2023.0.1-11005-fa1c41994f3-releases/2023/0...\n",
      "\u001b[34m\u001b[1mOpenVINO:\u001b[0m export success ✅ 0.9s, saved as 'yolo/runs/detect/round_1/train_m/weights/best_openvino_model/' (49.7 MB)\n",
      "\n",
      "Export complete (3.6s)\n",
      "Results saved to \u001b[1m/home/cemmi/Documents/aicrowd-mos/Mosquito-Classifiction/yolo/runs/detect/round_1/train_m/weights\u001b[0m\n",
      "Predict:         yolo predict task=detect model=yolo/runs/detect/round_1/train_m/weights/best_openvino_model imgsz=512 \n",
      "Validate:        yolo val task=detect model=yolo/runs/detect/round_1/train_m/weights/best_openvino_model imgsz=512 data=./yolo_config_mos.yml \n",
      "Visualize:       https://netron.app\n"
     ]
    }
   ],
   "source": [
    "!yolo task=detect mode=export model=yolo/runs/detect/round_1/train_m/weights/best.pt format=openvino imgsz=512 half=True\n",
    "!mv yolo/runs/detect/round_1/train_m/weights/best_openvino_model yolo/runs/detect/round_1/train_m/weights/best_openvino_model_512_half"
   ]
  },
  {
   "cell_type": "markdown",
   "id": "ae53ff44-e782-478d-a1d7-15a0aa3f9aae",
   "metadata": {},
   "source": [
    "## TFLITE Export"
   ]
  },
  {
   "cell_type": "code",
   "execution_count": 9,
   "id": "997359f5",
   "metadata": {},
   "outputs": [
    {
     "name": "stdout",
     "output_type": "stream",
     "text": [
      "Ultralytics YOLOv8.0.163 🚀 Python-3.9.17 torch-2.0.1+cu117 CPU (AMD Ryzen 7 5700X 8-Core Processor)\n",
      "Model summary (fused): 218 layers, 25843234 parameters, 0 gradients\n",
      "\n",
      "\u001b[34m\u001b[1mPyTorch:\u001b[0m starting from 'yolo/runs/detect/round_1/train_m/weights/best.pt' with input shape (1, 3, 1024, 1024) BCHW and output shape(s) (1, 10, 21504) (49.6 MB)\n",
      "\n",
      "\u001b[34m\u001b[1mTensorFlow SavedModel:\u001b[0m starting export with tensorflow 2.13.0...\n",
      "\n",
      "\u001b[34m\u001b[1mONNX:\u001b[0m starting export with onnx 1.14.1 opset 17...\n",
      "============= Diagnostic Run torch.onnx.export version 2.0.1+cu117 =============\n",
      "verbose: False, log level: Level.ERROR\n",
      "======================= 0 NONE 0 NOTE 0 WARNING 0 ERROR ========================\n",
      "\n",
      "\u001b[34m\u001b[1mONNX:\u001b[0m simplifying with onnxsim 0.4.33...\n",
      "\u001b[34m\u001b[1mONNX:\u001b[0m export success ✅ 8.0s, saved as 'yolo/runs/detect/round_1/train_m/weights/best.onnx' (98.9 MB)\n",
      "\u001b[34m\u001b[1mTensorFlow SavedModel:\u001b[0m running 'onnx2tf -i \"yolo/runs/detect/round_1/train_m/weights/best.onnx\" -o \"yolo/runs/detect/round_1/train_m/weights/best_saved_model\" -nuo --non_verbose'\n",
      "\u001b[34m\u001b[1mTensorFlow SavedModel:\u001b[0m export success ✅ 32.8s, saved as 'yolo/runs/detect/round_1/train_m/weights/best_saved_model' (247.6 MB)\n",
      "\n",
      "\u001b[34m\u001b[1mTensorFlow Lite:\u001b[0m starting export with tensorflow 2.13.0...\n",
      "\u001b[34m\u001b[1mTensorFlow Lite:\u001b[0m export success ✅ 0.0s, saved as 'yolo/runs/detect/round_1/train_m/weights/best_saved_model/best_float32.tflite' (98.9 MB)\n",
      "\n",
      "Export complete (34.9s)\n",
      "Results saved to \u001b[1m/home/cemmi/Documents/aicrowd-mos/Mosquito-Classifiction/yolo/runs/detect/round_1/train_m/weights\u001b[0m\n",
      "Predict:         yolo predict task=detect model=yolo/runs/detect/round_1/train_m/weights/best_saved_model/best_float32.tflite imgsz=1024 \n",
      "Validate:        yolo val task=detect model=yolo/runs/detect/round_1/train_m/weights/best_saved_model/best_float32.tflite imgsz=1024 data=./yolo_config_mos.yml \n",
      "Visualize:       https://netron.app\n"
     ]
    }
   ],
   "source": [
    "!yolo task=detect mode=export model=yolo/runs/detect/round_1/train_m/weights/best.pt format=tflite imgsz=1024\n",
    "!mv yolo/runs/detect/round_1/train_m/weights/best_saved_model yolo/runs/detect/round_1/train_m/weights/best_tflite_model_1024"
   ]
  },
  {
   "cell_type": "code",
   "execution_count": 10,
   "id": "63d5852b-b67e-4a1e-83fa-630a62298a58",
   "metadata": {},
   "outputs": [
    {
     "name": "stdout",
     "output_type": "stream",
     "text": [
      "Ultralytics YOLOv8.0.163 🚀 Python-3.9.17 torch-2.0.1+cu117 CPU (AMD Ryzen 7 5700X 8-Core Processor)\n",
      "Model summary (fused): 218 layers, 25843234 parameters, 0 gradients\n",
      "\n",
      "\u001b[34m\u001b[1mPyTorch:\u001b[0m starting from 'yolo/runs/detect/round_1/train_m/weights/best.pt' with input shape (1, 3, 512, 512) BCHW and output shape(s) (1, 10, 5376) (49.6 MB)\n",
      "\n",
      "\u001b[34m\u001b[1mTensorFlow SavedModel:\u001b[0m starting export with tensorflow 2.13.0...\n",
      "\n",
      "\u001b[34m\u001b[1mONNX:\u001b[0m starting export with onnx 1.14.1 opset 17...\n",
      "============= Diagnostic Run torch.onnx.export version 2.0.1+cu117 =============\n",
      "verbose: False, log level: Level.ERROR\n",
      "======================= 0 NONE 0 NOTE 0 WARNING 0 ERROR ========================\n",
      "\n",
      "\u001b[34m\u001b[1mONNX:\u001b[0m simplifying with onnxsim 0.4.33...\n",
      "\u001b[34m\u001b[1mONNX:\u001b[0m export success ✅ 7.8s, saved as 'yolo/runs/detect/round_1/train_m/weights/best.onnx' (98.7 MB)\n",
      "\u001b[34m\u001b[1mTensorFlow SavedModel:\u001b[0m running 'onnx2tf -i \"yolo/runs/detect/round_1/train_m/weights/best.onnx\" -o \"yolo/runs/detect/round_1/train_m/weights/best_saved_model\" -nuo --non_verbose'\n",
      "\u001b[34m\u001b[1mTensorFlow SavedModel:\u001b[0m export success ✅ 22.3s, saved as 'yolo/runs/detect/round_1/train_m/weights/best_saved_model' (247.0 MB)\n",
      "\n",
      "\u001b[34m\u001b[1mTensorFlow Lite:\u001b[0m starting export with tensorflow 2.13.0...\n",
      "\u001b[34m\u001b[1mTensorFlow Lite:\u001b[0m export success ✅ 0.0s, saved as 'yolo/runs/detect/round_1/train_m/weights/best_saved_model/best_float32.tflite' (98.7 MB)\n",
      "\n",
      "Export complete (23.8s)\n",
      "Results saved to \u001b[1m/home/cemmi/Documents/aicrowd-mos/Mosquito-Classifiction/yolo/runs/detect/round_1/train_m/weights\u001b[0m\n",
      "Predict:         yolo predict task=detect model=yolo/runs/detect/round_1/train_m/weights/best_saved_model/best_float32.tflite imgsz=512 \n",
      "Validate:        yolo val task=detect model=yolo/runs/detect/round_1/train_m/weights/best_saved_model/best_float32.tflite imgsz=512 data=./yolo_config_mos.yml \n",
      "Visualize:       https://netron.app\n"
     ]
    }
   ],
   "source": [
    "!yolo task=detect mode=export model=yolo/runs/detect/round_1/train_m/weights/best.pt format=tflite imgsz=512\n",
    "!mv yolo/runs/detect/round_1/train_m/weights/best_saved_model yolo/runs/detect/round_1/train_m/weights/best_tflite_model_512"
   ]
  },
  {
   "cell_type": "code",
   "execution_count": 11,
   "id": "b52b032d-0401-42d3-a1e0-104a1f84c879",
   "metadata": {},
   "outputs": [
    {
     "name": "stdout",
     "output_type": "stream",
     "text": [
      "Ultralytics YOLOv8.0.163 🚀 Python-3.9.17 torch-2.0.1+cu117 CPU (AMD Ryzen 7 5700X 8-Core Processor)\n",
      "Model summary (fused): 218 layers, 25843234 parameters, 0 gradients\n",
      "\n",
      "\u001b[34m\u001b[1mPyTorch:\u001b[0m starting from 'yolo/runs/detect/round_1/train_m/weights/best.pt' with input shape (1, 3, 640, 640) BCHW and output shape(s) (1, 10, 8400) (49.6 MB)\n",
      "\n",
      "\u001b[34m\u001b[1mTensorFlow SavedModel:\u001b[0m starting export with tensorflow 2.13.0...\n",
      "\n",
      "\u001b[34m\u001b[1mONNX:\u001b[0m starting export with onnx 1.14.1 opset 17...\n",
      "============= Diagnostic Run torch.onnx.export version 2.0.1+cu117 =============\n",
      "verbose: False, log level: Level.ERROR\n",
      "======================= 0 NONE 0 NOTE 0 WARNING 0 ERROR ========================\n",
      "\n",
      "\u001b[34m\u001b[1mONNX:\u001b[0m simplifying with onnxsim 0.4.33...\n",
      "\u001b[34m\u001b[1mONNX:\u001b[0m export success ✅ 7.4s, saved as 'yolo/runs/detect/round_1/train_m/weights/best.onnx' (98.8 MB)\n",
      "\u001b[34m\u001b[1mTensorFlow SavedModel:\u001b[0m running 'onnx2tf -i \"yolo/runs/detect/round_1/train_m/weights/best.onnx\" -o \"yolo/runs/detect/round_1/train_m/weights/best_saved_model\" -nuo --non_verbose'\n",
      "\u001b[34m\u001b[1mTensorFlow SavedModel:\u001b[0m export success ✅ 29.7s, saved as 'yolo/runs/detect/round_1/train_m/weights/best_saved_model' (247.1 MB)\n",
      "\n",
      "\u001b[34m\u001b[1mTensorFlow Lite:\u001b[0m starting export with tensorflow 2.13.0...\n",
      "\u001b[34m\u001b[1mTensorFlow Lite:\u001b[0m export success ✅ 0.0s, saved as 'yolo/runs/detect/round_1/train_m/weights/best_saved_model/best_float32.tflite' (98.8 MB)\n",
      "\n",
      "Export complete (31.3s)\n",
      "Results saved to \u001b[1m/home/cemmi/Documents/aicrowd-mos/Mosquito-Classifiction/yolo/runs/detect/round_1/train_m/weights\u001b[0m\n",
      "Predict:         yolo predict task=detect model=yolo/runs/detect/round_1/train_m/weights/best_saved_model/best_float32.tflite imgsz=640 \n",
      "Validate:        yolo val task=detect model=yolo/runs/detect/round_1/train_m/weights/best_saved_model/best_float32.tflite imgsz=640 data=./yolo_config_mos.yml \n",
      "Visualize:       https://netron.app\n"
     ]
    }
   ],
   "source": [
    "!yolo task=detect mode=export model=yolo/runs/detect/round_1/train_m/weights/best.pt format=tflite imgsz=640\n",
    "!mv yolo/runs/detect/round_1/train_m/weights/best_saved_model yolo/runs/detect/round_1/train_m/weights/best_tflite_model_640"
   ]
  },
  {
   "cell_type": "markdown",
   "id": "c075d428",
   "metadata": {},
   "source": [
    "## ONNX Export"
   ]
  },
  {
   "cell_type": "code",
   "execution_count": 15,
   "id": "ad03ee95",
   "metadata": {},
   "outputs": [
    {
     "name": "stdout",
     "output_type": "stream",
     "text": [
      "Ultralytics YOLOv8.0.163 🚀 Python-3.9.17 torch-2.0.1+cu117 CPU (AMD Ryzen 7 5700X 8-Core Processor)\n",
      "Model summary (fused): 218 layers, 25843234 parameters, 0 gradients\n",
      "\n",
      "\u001b[34m\u001b[1mPyTorch:\u001b[0m starting from 'yolo/runs/detect/round_1/train_m/weights/best.pt' with input shape (1, 3, 1024, 1024) BCHW and output shape(s) (1, 10, 21504) (49.6 MB)\n",
      "\n",
      "\u001b[34m\u001b[1mONNX:\u001b[0m starting export with onnx 1.14.1 opset 17...\n",
      "============= Diagnostic Run torch.onnx.export version 2.0.1+cu117 =============\n",
      "verbose: False, log level: Level.ERROR\n",
      "======================= 0 NONE 0 NOTE 0 WARNING 0 ERROR ========================\n",
      "\n",
      "\u001b[34m\u001b[1mONNX:\u001b[0m simplifying with onnxsim 0.4.33...\n",
      "\u001b[34m\u001b[1mONNX:\u001b[0m export success ✅ 3.3s, saved as 'yolo/runs/detect/round_1/train_m/weights/best.onnx' (98.9 MB)\n",
      "\n",
      "Export complete (5.4s)\n",
      "Results saved to \u001b[1m/home/cemmi/Documents/aicrowd-mos/Mosquito-Classifiction/yolo/runs/detect/round_1/train_m/weights\u001b[0m\n",
      "Predict:         yolo predict task=detect model=yolo/runs/detect/round_1/train_m/weights/best.onnx imgsz=1024 \n",
      "Validate:        yolo val task=detect model=yolo/runs/detect/round_1/train_m/weights/best.onnx imgsz=1024 data=./yolo_config_mos.yml \n",
      "Visualize:       https://netron.app\n"
     ]
    }
   ],
   "source": [
    "!yolo task=detect mode=export model=yolo/runs/detect/round_1/train_m/weights/best.pt format=onnx imgsz=1024 simplify=True\n",
    "!mv yolo/runs/detect/round_1/train_m/weights/best.onnx yolo/runs/detect/round_1/train_m/weights/best_1024.onnx"
   ]
  },
  {
   "cell_type": "code",
   "execution_count": 13,
   "id": "eb3946e1-a16f-496c-9594-346c8264a83a",
   "metadata": {},
   "outputs": [
    {
     "name": "stdout",
     "output_type": "stream",
     "text": [
      "Ultralytics YOLOv8.0.163 🚀 Python-3.9.17 torch-2.0.1+cu117 CPU (AMD Ryzen 7 5700X 8-Core Processor)\n",
      "Model summary (fused): 218 layers, 25843234 parameters, 0 gradients\n",
      "\n",
      "\u001b[34m\u001b[1mPyTorch:\u001b[0m starting from 'yolo/runs/detect/round_1/train_m/weights/best.pt' with input shape (1, 3, 640, 640) BCHW and output shape(s) (1, 10, 8400) (49.6 MB)\n",
      "\n",
      "\u001b[34m\u001b[1mONNX:\u001b[0m starting export with onnx 1.14.1 opset 17...\n",
      "============= Diagnostic Run torch.onnx.export version 2.0.1+cu117 =============\n",
      "verbose: False, log level: Level.ERROR\n",
      "======================= 0 NONE 0 NOTE 0 WARNING 0 ERROR ========================\n",
      "\n",
      "\u001b[34m\u001b[1mONNX:\u001b[0m simplifying with onnxsim 0.4.33...\n",
      "\u001b[34m\u001b[1mONNX:\u001b[0m export success ✅ 3.0s, saved as 'yolo/runs/detect/round_1/train_m/weights/best.onnx' (98.8 MB)\n",
      "\n",
      "Export complete (4.6s)\n",
      "Results saved to \u001b[1m/home/cemmi/Documents/aicrowd-mos/Mosquito-Classifiction/yolo/runs/detect/round_1/train_m/weights\u001b[0m\n",
      "Predict:         yolo predict task=detect model=yolo/runs/detect/round_1/train_m/weights/best.onnx imgsz=640 \n",
      "Validate:        yolo val task=detect model=yolo/runs/detect/round_1/train_m/weights/best.onnx imgsz=640 data=./yolo_config_mos.yml \n",
      "Visualize:       https://netron.app\n"
     ]
    }
   ],
   "source": [
    "!yolo task=detect mode=export model=yolo/runs/detect/round_1/train_m/weights/best.pt format=onnx imgsz=640 simplify=True\n",
    "!mv yolo/runs/detect/round_1/train_m/weights/best.onnx yolo/runs/detect/round_1/train_m/weights/best_640.onnx"
   ]
  },
  {
   "cell_type": "code",
   "execution_count": 14,
   "id": "7d2dd932-9d29-43a8-a72b-f63a35018f67",
   "metadata": {},
   "outputs": [
    {
     "name": "stdout",
     "output_type": "stream",
     "text": [
      "Ultralytics YOLOv8.0.163 🚀 Python-3.9.17 torch-2.0.1+cu117 CPU (AMD Ryzen 7 5700X 8-Core Processor)\n",
      "Model summary (fused): 218 layers, 25843234 parameters, 0 gradients\n",
      "\n",
      "\u001b[34m\u001b[1mPyTorch:\u001b[0m starting from 'yolo/runs/detect/round_1/train_m/weights/best.pt' with input shape (1, 3, 512, 512) BCHW and output shape(s) (1, 10, 5376) (49.6 MB)\n",
      "\n",
      "\u001b[34m\u001b[1mONNX:\u001b[0m starting export with onnx 1.14.1 opset 17...\n",
      "============= Diagnostic Run torch.onnx.export version 2.0.1+cu117 =============\n",
      "verbose: False, log level: Level.ERROR\n",
      "======================= 0 NONE 0 NOTE 0 WARNING 0 ERROR ========================\n",
      "\n",
      "\u001b[34m\u001b[1mONNX:\u001b[0m simplifying with onnxsim 0.4.33...\n",
      "\u001b[34m\u001b[1mONNX:\u001b[0m export success ✅ 3.0s, saved as 'yolo/runs/detect/round_1/train_m/weights/best.onnx' (98.7 MB)\n",
      "\n",
      "Export complete (4.5s)\n",
      "Results saved to \u001b[1m/home/cemmi/Documents/aicrowd-mos/Mosquito-Classifiction/yolo/runs/detect/round_1/train_m/weights\u001b[0m\n",
      "Predict:         yolo predict task=detect model=yolo/runs/detect/round_1/train_m/weights/best.onnx imgsz=512 \n",
      "Validate:        yolo val task=detect model=yolo/runs/detect/round_1/train_m/weights/best.onnx imgsz=512 data=./yolo_config_mos.yml \n",
      "Visualize:       https://netron.app\n"
     ]
    }
   ],
   "source": [
    "!yolo task=detect mode=export model=yolo/runs/detect/round_1/train_m/weights/best.pt format=onnx imgsz=512 simplify=True\n",
    "!mv yolo/runs/detect/round_1/train_m/weights/best.onnx yolo/runs/detect/round_1/train_m/weights/best_512.onnx"
   ]
  },
  {
   "cell_type": "code",
   "execution_count": 1,
   "id": "a103d59b-333c-41ca-9adc-29d98d04be73",
   "metadata": {},
   "outputs": [
    {
     "name": "stdout",
     "output_type": "stream",
     "text": [
      "Ultralytics YOLOv8.0.163 🚀 Python-3.9.17 torch-2.0.1+cu117 CPU (AMD Ryzen 7 5700X 8-Core Processor)\n",
      "Model summary (fused): 218 layers, 25843234 parameters, 0 gradients\n",
      "\n",
      "\u001b[34m\u001b[1mPyTorch:\u001b[0m starting from 'yolo/runs/detect/round_1/train_m/weights/best.pt' with input shape (1, 3, 1024, 1024) BCHW and output shape(s) (1, 10, 21504) (49.6 MB)\n",
      "\n",
      "\u001b[34m\u001b[1mONNX:\u001b[0m starting export with onnx 1.14.1 opset 17...\n",
      "============= Diagnostic Run torch.onnx.export version 2.0.1+cu117 =============\n",
      "verbose: False, log level: Level.ERROR\n",
      "======================= 0 NONE 0 NOTE 0 WARNING 0 ERROR ========================\n",
      "\n",
      "\u001b[34m\u001b[1mONNX:\u001b[0m simplifying with onnxsim 0.4.33...\n",
      "\u001b[34m\u001b[1mONNX:\u001b[0m export success ✅ 3.7s, saved as 'yolo/runs/detect/round_1/train_m/weights/best.onnx' (98.7 MB)\n",
      "\n",
      "Export complete (5.9s)\n",
      "Results saved to \u001b[1m/home/cemmi/Documents/aicrowd-mos/Mosquito-Classifiction/yolo/runs/detect/round_1/train_m/weights\u001b[0m\n",
      "Predict:         yolo predict task=detect model=yolo/runs/detect/round_1/train_m/weights/best.onnx imgsz=1024 \n",
      "Validate:        yolo val task=detect model=yolo/runs/detect/round_1/train_m/weights/best.onnx imgsz=1024 data=./yolo_config_mos.yml \n",
      "Visualize:       https://netron.app\n"
     ]
    }
   ],
   "source": [
    "!yolo task=detect mode=export model=yolo/runs/detect/round_1/train_m/weights/best.pt format=onnx simplify=True dynamic=True\n"
   ]
  },
  {
   "cell_type": "markdown",
   "id": "6af11a05-e7d8-4657-9d53-4d047632c543",
   "metadata": {},
   "source": [
    "# ncnn "
   ]
  },
  {
   "cell_type": "code",
   "execution_count": 16,
   "id": "30d7ae63-99b2-4b6f-985a-658113d0c864",
   "metadata": {},
   "outputs": [
    {
     "name": "stdout",
     "output_type": "stream",
     "text": [
      "Ultralytics YOLOv8.0.163 🚀 Python-3.9.17 torch-2.0.1+cu117 CPU (AMD Ryzen 7 5700X 8-Core Processor)\n",
      "Model summary (fused): 218 layers, 25843234 parameters, 0 gradients\n",
      "\n",
      "\u001b[34m\u001b[1mPyTorch:\u001b[0m starting from 'yolo/runs/detect/round_1/train_m/weights/best.pt' with input shape (1, 3, 512, 512) BCHW and output shape(s) (1, 10, 5376) (49.6 MB)\n",
      "\n",
      "\u001b[34m\u001b[1mTorchScript:\u001b[0m starting export with torch 2.0.1+cu117...\n",
      "\u001b[34m\u001b[1mTorchScript:\u001b[0m export success ✅ 1.5s, saved as 'yolo/runs/detect/round_1/train_m/weights/best.torchscript' (99.0 MB)\n",
      "\u001b[31m\u001b[1mrequirements:\u001b[0m Ultralytics requirement ['ncnn'] not found, attempting AutoUpdate...\n",
      "Looking in indexes: https://pypi.org/simple, https://pypi.ngc.nvidia.com\n",
      "Collecting ncnn\n",
      "  Obtaining dependency information for ncnn from https://files.pythonhosted.org/packages/53/32/0781308360d43fabd2b2bd91d30c9e64680ca4ab2108801f56faea4e27c5/ncnn-1.0.20230816-cp39-cp39-manylinux_2_17_x86_64.manylinux2014_x86_64.whl.metadata\n",
      "  Downloading ncnn-1.0.20230816-cp39-cp39-manylinux_2_17_x86_64.manylinux2014_x86_64.whl.metadata (27 kB)\n",
      "Requirement already satisfied: numpy in /home/cemmi/anaconda3/envs/mosquito/lib/python3.9/site-packages (from ncnn) (1.24.3)\n",
      "Requirement already satisfied: tqdm in /home/cemmi/anaconda3/envs/mosquito/lib/python3.9/site-packages (from ncnn) (4.66.1)\n",
      "Requirement already satisfied: requests in /home/cemmi/anaconda3/envs/mosquito/lib/python3.9/site-packages (from ncnn) (2.31.0)\n",
      "Collecting portalocker (from ncnn)\n",
      "  Downloading portalocker-2.7.0-py2.py3-none-any.whl (15 kB)\n",
      "Requirement already satisfied: opencv-python in /home/cemmi/anaconda3/envs/mosquito/lib/python3.9/site-packages (from ncnn) (4.8.0.76)\n",
      "Requirement already satisfied: charset-normalizer<4,>=2 in /home/cemmi/anaconda3/envs/mosquito/lib/python3.9/site-packages (from requests->ncnn) (3.2.0)\n",
      "Requirement already satisfied: idna<4,>=2.5 in /home/cemmi/anaconda3/envs/mosquito/lib/python3.9/site-packages (from requests->ncnn) (3.4)\n",
      "Requirement already satisfied: urllib3<3,>=1.21.1 in /home/cemmi/anaconda3/envs/mosquito/lib/python3.9/site-packages (from requests->ncnn) (1.26.16)\n",
      "Requirement already satisfied: certifi>=2017.4.17 in /home/cemmi/anaconda3/envs/mosquito/lib/python3.9/site-packages (from requests->ncnn) (2023.7.22)\n",
      "Downloading ncnn-1.0.20230816-cp39-cp39-manylinux_2_17_x86_64.manylinux2014_x86_64.whl (3.5 MB)\n",
      "\u001b[2K   \u001b[38;2;114;156;31m━━━━━━━━━━━━━━━━━━━━━━━━━━━━━━━━━━━━━━━━\u001b[0m \u001b[32m3.5/3.5 MB\u001b[0m \u001b[31m7.2 MB/s\u001b[0m eta \u001b[36m0:00:00\u001b[0mm eta \u001b[36m0:00:01\u001b[0m[36m0:00:01\u001b[0mm\n",
      "\u001b[?25hInstalling collected packages: portalocker, ncnn\n",
      "Successfully installed ncnn-1.0.20230816 portalocker-2.7.0\n",
      "\n",
      "\u001b[31m\u001b[1mrequirements:\u001b[0m AutoUpdate success ✅ 5.4s, installed 1 package: ['ncnn']\n",
      "\u001b[31m\u001b[1mrequirements:\u001b[0m ⚠️ \u001b[1mRestart runtime or rerun command for updates to take effect\u001b[0m\n",
      "\n",
      "\n",
      "\u001b[34m\u001b[1mncnn:\u001b[0m starting export with ncnn 1.0.20230816...\n",
      "\u001b[34m\u001b[1mncnn:\u001b[0m WARNING ⚠️ PNNX not found. Attempting to download binary file from https://github.com/pnnx/pnnx/.\n",
      "Note PNNX Binary file must be placed in current working directory or in /home/cemmi/anaconda3/envs/mosquito/lib/python3.9/site-packages/ultralytics. See PNNX repo for full installation instructions.\n",
      "Downloading https://github.com/pnnx/pnnx/releases/download/20230816/pnnx-20230816-ubuntu.zip to 'pnnx-20230816-ubuntu.zip'...\n",
      "100%|██████████████████████████████████████| 17.0M/17.0M [00:01<00:00, 11.3MB/s]\n",
      "Unzipping pnnx-20230816-ubuntu.zip to /home/cemmi/Documents/aicrowd-mos/Mosquito\n",
      "\u001b[34m\u001b[1mncnn:\u001b[0m running '/home/cemmi/anaconda3/envs/mosquito/lib/python3.9/site-packages/ultralytics/pnnx yolo/runs/detect/round_1/train_m/weights/best.torchscript ncnnparam=yolo/runs/detect/round_1/train_m/weights/best_ncnn_model/model.ncnn.param ncnnbin=yolo/runs/detect/round_1/train_m/weights/best_ncnn_model/model.ncnn.bin ncnnpy=yolo/runs/detect/round_1/train_m/weights/best_ncnn_model/model_ncnn.py fp16=1 device=cpu inputshape=\"[1, 3, 512, 512]\"'\n",
      "pnnxparam = yolo/runs/detect/round_1/train_m/weights/best.pnnx.param\n",
      "pnnxbin = yolo/runs/detect/round_1/train_m/weights/best.pnnx.bin\n",
      "pnnxpy = yolo/runs/detect/round_1/train_m/weights/best_pnnx.py\n",
      "pnnxonnx = yolo/runs/detect/round_1/train_m/weights/best.pnnx.onnx\n",
      "ncnnparam = yolo/runs/detect/round_1/train_m/weights/best_ncnn_model/model.ncnn.param\n",
      "ncnnbin = yolo/runs/detect/round_1/train_m/weights/best_ncnn_model/model.ncnn.bin\n",
      "ncnnpy = yolo/runs/detect/round_1/train_m/weights/best_ncnn_model/model_ncnn.py\n",
      "fp16 = 1\n",
      "optlevel = 2\n",
      "device = cpu\n",
      "inputshape = [1,3,512,512]f32\n",
      "inputshape2 = \n",
      "customop = \n",
      "moduleop = \n",
      "############# pass_level0\n",
      "inline module = ultralytics.nn.modules.block.Bottleneck\n",
      "inline module = ultralytics.nn.modules.block.C2f\n",
      "inline module = ultralytics.nn.modules.block.DFL\n",
      "inline module = ultralytics.nn.modules.block.SPPF\n",
      "inline module = ultralytics.nn.modules.conv.Concat\n",
      "inline module = ultralytics.nn.modules.conv.Conv\n",
      "inline module = ultralytics.nn.modules.head.Detect\n",
      "inline module = ultralytics.nn.modules.block.Bottleneck\n",
      "inline module = ultralytics.nn.modules.block.C2f\n",
      "inline module = ultralytics.nn.modules.block.DFL\n",
      "inline module = ultralytics.nn.modules.block.SPPF\n",
      "inline module = ultralytics.nn.modules.conv.Concat\n",
      "inline module = ultralytics.nn.modules.conv.Conv\n",
      "inline module = ultralytics.nn.modules.head.Detect\n",
      "\n",
      "----------------\n",
      "\n",
      "############# pass_level1\n",
      "############# pass_level2\n",
      "############# pass_level3\n",
      "############# pass_level4\n",
      "############# pass_level5\n",
      "############# pass_ncnn\n",
      "\u001b[34m\u001b[1mncnn:\u001b[0m export success ✅ 11.9s, saved as 'yolo/runs/detect/round_1/train_m/weights/best_ncnn_model' (49.4 MB)\n",
      "\n",
      "Export complete (14.9s)\n",
      "Results saved to \u001b[1m/home/cemmi/Documents/aicrowd-mos/Mosquito-Classifiction/yolo/runs/detect/round_1/train_m/weights\u001b[0m\n",
      "Predict:         yolo predict task=detect model=yolo/runs/detect/round_1/train_m/weights/best_ncnn_model imgsz=512 \n",
      "Validate:        yolo val task=detect model=yolo/runs/detect/round_1/train_m/weights/best_ncnn_model imgsz=512 data=./yolo_config_mos.yml \n",
      "Visualize:       https://netron.app\n"
     ]
    }
   ],
   "source": [
    "!yolo task=detect mode=export model=yolo/runs/detect/round_1/train_m/weights/best.pt format=ncnn imgsz=512 half=True\n",
    "!mv yolo/runs/detect/round_1/train_m/weights/best_ncnn_model yolo/runs/detect/round_1/train_m/weights/best_ncnn_model_512_half"
   ]
  },
  {
   "cell_type": "code",
   "execution_count": 17,
   "id": "45883f0e-91b5-4051-bf2e-4be587708b59",
   "metadata": {},
   "outputs": [
    {
     "name": "stdout",
     "output_type": "stream",
     "text": [
      "Ultralytics YOLOv8.0.163 🚀 Python-3.9.17 torch-2.0.1+cu117 CPU (AMD Ryzen 7 5700X 8-Core Processor)\n",
      "Model summary (fused): 218 layers, 25843234 parameters, 0 gradients\n",
      "\n",
      "\u001b[34m\u001b[1mPyTorch:\u001b[0m starting from 'yolo/runs/detect/round_1/train_m/weights/best.pt' with input shape (1, 3, 1024, 1024) BCHW and output shape(s) (1, 10, 21504) (49.6 MB)\n",
      "\n",
      "\u001b[34m\u001b[1mTorchScript:\u001b[0m starting export with torch 2.0.1+cu117...\n",
      "\u001b[34m\u001b[1mTorchScript:\u001b[0m export success ✅ 3.0s, saved as 'yolo/runs/detect/round_1/train_m/weights/best.torchscript' (99.2 MB)\n",
      "\n",
      "\u001b[34m\u001b[1mncnn:\u001b[0m starting export with ncnn 1.0.20230816...\n",
      "\u001b[34m\u001b[1mncnn:\u001b[0m running '/home/cemmi/anaconda3/envs/mosquito/lib/python3.9/site-packages/ultralytics/pnnx yolo/runs/detect/round_1/train_m/weights/best.torchscript ncnnparam=yolo/runs/detect/round_1/train_m/weights/best_ncnn_model/model.ncnn.param ncnnbin=yolo/runs/detect/round_1/train_m/weights/best_ncnn_model/model.ncnn.bin ncnnpy=yolo/runs/detect/round_1/train_m/weights/best_ncnn_model/model_ncnn.py fp16=1 device=cpu inputshape=\"[1, 3, 1024, 1024]\"'\n",
      "pnnxparam = yolo/runs/detect/round_1/train_m/weights/best.pnnx.param\n",
      "pnnxbin = yolo/runs/detect/round_1/train_m/weights/best.pnnx.bin\n",
      "pnnxpy = yolo/runs/detect/round_1/train_m/weights/best_pnnx.py\n",
      "pnnxonnx = yolo/runs/detect/round_1/train_m/weights/best.pnnx.onnx\n",
      "ncnnparam = yolo/runs/detect/round_1/train_m/weights/best_ncnn_model/model.ncnn.param\n",
      "ncnnbin = yolo/runs/detect/round_1/train_m/weights/best_ncnn_model/model.ncnn.bin\n",
      "ncnnpy = yolo/runs/detect/round_1/train_m/weights/best_ncnn_model/model_ncnn.py\n",
      "fp16 = 1\n",
      "optlevel = 2\n",
      "device = cpu\n",
      "inputshape = [1,3,1024,1024]f32\n",
      "inputshape2 = \n",
      "customop = \n",
      "moduleop = \n",
      "############# pass_level0\n",
      "inline module = ultralytics.nn.modules.block.Bottleneck\n",
      "inline module = ultralytics.nn.modules.block.C2f\n",
      "inline module = ultralytics.nn.modules.block.DFL\n",
      "inline module = ultralytics.nn.modules.block.SPPF\n",
      "inline module = ultralytics.nn.modules.conv.Concat\n",
      "inline module = ultralytics.nn.modules.conv.Conv\n",
      "inline module = ultralytics.nn.modules.head.Detect\n",
      "inline module = ultralytics.nn.modules.block.Bottleneck\n",
      "inline module = ultralytics.nn.modules.block.C2f\n",
      "inline module = ultralytics.nn.modules.block.DFL\n",
      "inline module = ultralytics.nn.modules.block.SPPF\n",
      "inline module = ultralytics.nn.modules.conv.Concat\n",
      "inline module = ultralytics.nn.modules.conv.Conv\n",
      "inline module = ultralytics.nn.modules.head.Detect\n",
      "\n",
      "----------------\n",
      "\n",
      "############# pass_level1\n",
      "############# pass_level2\n",
      "############# pass_level3\n",
      "############# pass_level4\n",
      "############# pass_level5\n",
      "############# pass_ncnn\n",
      "\u001b[34m\u001b[1mncnn:\u001b[0m export success ✅ 9.5s, saved as 'yolo/runs/detect/round_1/train_m/weights/best_ncnn_model' (49.8 MB)\n",
      "\n",
      "Export complete (14.6s)\n",
      "Results saved to \u001b[1m/home/cemmi/Documents/aicrowd-mos/Mosquito-Classifiction/yolo/runs/detect/round_1/train_m/weights\u001b[0m\n",
      "Predict:         yolo predict task=detect model=yolo/runs/detect/round_1/train_m/weights/best_ncnn_model imgsz=1024 \n",
      "Validate:        yolo val task=detect model=yolo/runs/detect/round_1/train_m/weights/best_ncnn_model imgsz=1024 data=./yolo_config_mos.yml \n",
      "Visualize:       https://netron.app\n"
     ]
    }
   ],
   "source": [
    "!yolo task=detect mode=export model=yolo/runs/detect/round_1/train_m/weights/best.pt format=ncnn imgsz=1024 half=True\n",
    "!mv yolo/runs/detect/round_1/train_m/weights/best_ncnn_model yolo/runs/detect/round_1/train_m/weights/best_ncnn_model_1024_half"
   ]
  },
  {
   "cell_type": "code",
   "execution_count": null,
   "id": "b3651128-8a1e-45e0-8e04-278579193789",
   "metadata": {},
   "outputs": [],
   "source": []
  }
 ],
 "metadata": {
  "kernelspec": {
   "display_name": "Python 3 (ipykernel)",
   "language": "python",
   "name": "python3"
  },
  "language_info": {
   "codemirror_mode": {
    "name": "ipython",
    "version": 3
   },
   "file_extension": ".py",
   "mimetype": "text/x-python",
   "name": "python",
   "nbconvert_exporter": "python",
   "pygments_lexer": "ipython3",
   "version": "3.9.17"
  }
 },
 "nbformat": 4,
 "nbformat_minor": 5
}
