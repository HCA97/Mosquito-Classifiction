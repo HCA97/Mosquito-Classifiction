{
 "cells": [
  {
   "cell_type": "markdown",
   "metadata": {
    "id": "T06H-pmdza-c"
   },
   "source": [
    "# MosquitoAlert - YoloV5 Baseline Submission\n",
    "\n",
    "![](https://images.aicrowd.com/raw_images/challenges/social_media_image_file/1124/1c83e8678106d51ab51f.png)\n",
    "\n",
    "This notebook will contains instructions and example submission with yolov5 trained on the dataset."
   ]
  },
  {
   "cell_type": "markdown",
   "metadata": {
    "id": "rKklqOLV0Bjd"
   },
   "source": [
    "## Installations 🤖\n",
    "\n",
    "1. `aicrowd-cli` for downloading challenge data and making submissions\n",
    "2. `pyarrow` for saving to parquet for submissions"
   ]
  },
  {
   "cell_type": "code",
   "execution_count": 1,
   "metadata": {
    "colab": {
     "base_uri": "https://localhost:8080/"
    },
    "executionInfo": {
     "elapsed": 6095,
     "status": "ok",
     "timestamp": 1687954007974,
     "user": {
      "displayName": "Dipam Chakraborty",
      "userId": "04496869744334527762"
     },
     "user_tz": -330
    },
    "id": "CPt88vs3y_vc",
    "outputId": "86d8555d-a957-4fcf-8dd7-5baa23ec410b"
   },
   "outputs": [
    {
     "name": "stdout",
     "output_type": "stream",
     "text": [
      "Looking in indexes: https://pypi.org/simple, https://pypi.ngc.nvidia.com\n",
      "Collecting ultralytics\n",
      "  Downloading ultralytics-8.0.124-py3-none-any.whl (612 kB)\n",
      "\u001b[2K     \u001b[38;2;114;156;31m━━━━━━━━━━━━━━━━━━━━━━━━━━━━━━━━━━━━━━\u001b[0m \u001b[32m612.6/612.6 kB\u001b[0m \u001b[31m10.3 MB/s\u001b[0m eta \u001b[36m0:00:00\u001b[0m[31m9.1 MB/s\u001b[0m eta \u001b[36m0:00:01\u001b[0m\n",
      "\u001b[?25hRequirement already satisfied: tqdm in /home/cemmi/anaconda3/envs/mosquito/lib/python3.9/site-packages (4.65.0)\n",
      "Requirement already satisfied: opencv-python in /home/cemmi/anaconda3/envs/mosquito/lib/python3.9/site-packages (4.7.0.72)\n",
      "Collecting opencv-python\n",
      "  Downloading opencv_python-4.8.0.74-cp37-abi3-manylinux_2_17_x86_64.manylinux2014_x86_64.whl (61.7 MB)\n",
      "\u001b[2K     \u001b[38;2;249;38;114m━━━━━━━━━━━━━━━━━━━━━━━━━━━━\u001b[0m\u001b[38;2;249;38;114m╸\u001b[0m\u001b[38;5;237m━━━━━━━━━━━\u001b[0m \u001b[32m44.2/61.7 MB\u001b[0m \u001b[31m11.5 MB/s\u001b[0m eta \u001b[36m0:00:02\u001b[0m^C\n",
      "\u001b[2K     \u001b[38;2;249;38;114m━━━━━━━━━━━━━━━━━━━━━━━━━━━━\u001b[0m\u001b[38;2;249;38;114m╸\u001b[0m\u001b[38;5;237m━━━━━━━━━━━\u001b[0m \u001b[32m44.4/61.7 MB\u001b[0m \u001b[31m11.5 MB/s\u001b[0m eta \u001b[36m0:00:02\u001b[0m\n",
      "\u001b[?25h\u001b[31mERROR: Operation cancelled by user\u001b[0m\u001b[31m\n",
      "\u001b[0m"
     ]
    }
   ],
   "source": [
    "!pip install -U ultralytics tqdm opencv-python torchvision pandas Pillow gdown aicrowd-cli"
   ]
  },
  {
   "cell_type": "code",
   "execution_count": 2,
   "metadata": {
    "executionInfo": {
     "elapsed": 1500,
     "status": "ok",
     "timestamp": 1687954031341,
     "user": {
      "displayName": "Dipam Chakraborty",
      "userId": "04496869744334527762"
     },
     "user_tz": -330
    },
    "id": "6W3jHgFVy_ve"
   },
   "outputs": [],
   "source": [
    "import torch\n",
    "import os\n",
    "from pathlib import Path\n",
    "import cv2\n",
    "from timeit import default_timer as timer\n",
    "import pandas as pd\n",
    "from tqdm.auto import tqdm\n",
    "from PIL import Image"
   ]
  },
  {
   "cell_type": "markdown",
   "metadata": {
    "id": "hoDiyrxG0XrW"
   },
   "source": [
    "# Download Dataset and Models"
   ]
  },
  {
   "cell_type": "code",
   "execution_count": 3,
   "metadata": {
    "colab": {
     "base_uri": "https://localhost:8080/"
    },
    "executionInfo": {
     "elapsed": 13720,
     "status": "ok",
     "timestamp": 1687952753151,
     "user": {
      "displayName": "Dipam Chakraborty",
      "userId": "04496869744334527762"
     },
     "user_tz": -330
    },
    "id": "uT5pqGXcy_ve",
    "outputId": "b8fe35a1-045a-4b0f-c927-7b2c6bbb8d50"
   },
   "outputs": [
    {
     "name": "stdout",
     "output_type": "stream",
     "text": [
      "/bin/bash: line 1: aicrowd: command not found\r\n"
     ]
    }
   ],
   "source": [
    "!aicrowd login"
   ]
  },
  {
   "cell_type": "code",
   "execution_count": 4,
   "metadata": {
    "colab": {
     "base_uri": "https://localhost:8080/"
    },
    "executionInfo": {
     "elapsed": 897384,
     "status": "ok",
     "timestamp": 1687953923179,
     "user": {
      "displayName": "Dipam Chakraborty",
      "userId": "04496869744334527762"
     },
     "user_tz": -330
    },
    "id": "GOKyjNqb0ziI",
    "outputId": "ca9248eb-5769-4dc7-f4c6-57384ced910b"
   },
   "outputs": [
    {
     "name": "stdout",
     "output_type": "stream",
     "text": [
      "/bin/bash: line 1: aicrowd: command not found\r\n"
     ]
    }
   ],
   "source": [
    "!aicrowd dataset download --challenge mosquitoalert-challenge-2023"
   ]
  },
  {
   "cell_type": "code",
   "execution_count": 5,
   "metadata": {
    "executionInfo": {
     "elapsed": 25785,
     "status": "ok",
     "timestamp": 1687953951232,
     "user": {
      "displayName": "Dipam Chakraborty",
      "userId": "04496869744334527762"
     },
     "user_tz": -330
    },
    "id": "iJlxG6lD4uuk"
   },
   "outputs": [
    {
     "name": "stdout",
     "output_type": "stream",
     "text": [
      "unzip:  cannot find or open test_images_phase1.zip, test_images_phase1.zip.zip or test_images_phase1.zip.ZIP.\r\n"
     ]
    }
   ],
   "source": [
    "!unzip -qq test_images_phase1.zip -d test_images_phase1/"
   ]
  },
  {
   "cell_type": "code",
   "execution_count": 12,
   "metadata": {
    "colab": {
     "base_uri": "https://localhost:8080/"
    },
    "executionInfo": {
     "elapsed": 3283,
     "status": "ok",
     "timestamp": 1687953957245,
     "user": {
      "displayName": "Dipam Chakraborty",
      "userId": "04496869744334527762"
     },
     "user_tz": -330
    },
    "id": "NqkqXQrXy_vf",
    "outputId": "1cc34747-479c-4a9f-d7e2-71eeae305c9b"
   },
   "outputs": [
    {
     "name": "stdout",
     "output_type": "stream",
     "text": [
      "Downloading...\n",
      "From: https://drive.google.com/uc?id=1s7EoK3V9YTwQOxhuO1ERABRZ95atz8PS\n",
      "To: /content/mosquitoalert-yolov5-baseline.pt\n",
      "\r",
      "  0% 0.00/14.4M [00:00<?, ?B/s]\r",
      " 33% 4.72M/14.4M [00:00<00:00, 32.7MB/s]\r",
      "100% 14.4M/14.4M [00:00<00:00, 75.9MB/s]\n"
     ]
    }
   ],
   "source": [
    "# Downloading the weight file at https://drive.google.com/file/d/1s7EoK3V9YTwQOxhuO1ERABRZ95atz8PS/view\n",
    "!gdown \"1s7EoK3V9YTwQOxhuO1ERABRZ95atz8PS\""
   ]
  },
  {
   "cell_type": "code",
   "execution_count": 4,
   "metadata": {
    "executionInfo": {
     "elapsed": 3,
     "status": "ok",
     "timestamp": 1687954046463,
     "user": {
      "displayName": "Dipam Chakraborty",
      "userId": "04496869744334527762"
     },
     "user_tz": -330
    },
    "id": "h8oLLQC70EC1"
   },
   "outputs": [],
   "source": [
    "TEST_DATA_DIR = 'test_images_phase1/'"
   ]
  },
  {
   "cell_type": "code",
   "execution_count": 5,
   "metadata": {
    "executionInfo": {
     "elapsed": 2,
     "status": "ok",
     "timestamp": 1687954046463,
     "user": {
      "displayName": "Dipam Chakraborty",
      "userId": "04496869744334527762"
     },
     "user_tz": -330
    },
    "id": "ml9P_k9lzH_m"
   },
   "outputs": [],
   "source": [
    "def classify_image(image):\n",
    "    image_information = {}\n",
    "    result = yolov5_model(image)\n",
    "    result_df = result.pandas().xyxy[0]\n",
    "    if result_df.empty:\n",
    "        print('No results from yolov5 model!')\n",
    "    else:\n",
    "        image_information = result_df.to_dict()\n",
    "    return image_information\n",
    "\n",
    "# getting mosquito_class name from predicted result\n",
    "def extract_predicted_mosquito_class_name(extractedInformation):\n",
    "    mosquito_class = \"\"\n",
    "    if extractedInformation is not None:\n",
    "        mosquito_class = str(extractedInformation.get(\"name\").get(0))\n",
    "    return mosquito_class\n",
    "\n",
    "# getting mosquito_class number from predicted result\n",
    "def extract_predicted_mosquito_class_number(extractedInformation):\n",
    "    mosquito_class = \"\"\n",
    "    if extractedInformation is not None:\n",
    "        mosquito_class = str(extractedInformation.get(\"class\").get(0))\n",
    "    return mosquito_class\n",
    "\n",
    "# getting mosquito_class confidence score from predicted result\n",
    "def extract_predicted_mosquito_class_confidence(extractedInformation):\n",
    "    mosquito_class = \"\"\n",
    "    if extractedInformation is not None:\n",
    "        mosquito_class = str(extractedInformation.get(\"confidence\").get(0))\n",
    "    return mosquito_class\n",
    "\n",
    "# getting mosquito bounding box from predicted result\n",
    "# it looks like the results are in different notation\n",
    "# than the uoutput file\n",
    "# Pascal VOC? (top, left, bottom, right)?\n",
    "def extract_predicted_mosquito_bbox(extractedInformation):\n",
    "    bbox = []\n",
    "    if extractedInformation is not None:\n",
    "        xmin = str(extractedInformation.get(\"xmin\").get(0))\n",
    "        ymin = str(extractedInformation.get(\"ymin\").get(0))\n",
    "        xmax = str(extractedInformation.get(\"xmax\").get(0))\n",
    "        ymax = str(extractedInformation.get(\"ymax\").get(0))\n",
    "        bbox = [xmin, ymin, xmax, ymax]\n",
    "    return bbox\n",
    "\n",
    "# find image id\n",
    "def find_image_id(original_image):\n",
    "    image_name = os.path.splitext(original_image)[0]\n",
    "    return image_name"
   ]
  },
  {
   "cell_type": "code",
   "execution_count": 6,
   "metadata": {
    "colab": {
     "base_uri": "https://localhost:8080/",
     "height": 865,
     "referenced_widgets": [
      "7504884b1f324df8b8759ea22c16d7f6",
      "01fb0c2c0190473e9d3ff6aa685ec6da",
      "446bacc8236a4a879d262f578b514165",
      "0e17c84731e14aee9738a2ede3f6f388",
      "26193cb605e34cb0b08da64ab30e99db",
      "aa40974915a547aaad97da75116eeb76",
      "d0b4fa7496ac4e71abfd958ba0357a3a",
      "4c12973efdba4dabbdae8f94e4795ce4",
      "5924b4c947aa45c59d43836b79b6724e",
      "41891e0b09824e2d899c6fd69291f56b",
      "12067b7c776e436087e5b190c76b96a9"
     ]
    },
    "executionInfo": {
     "elapsed": 668773,
     "status": "ok",
     "timestamp": 1687954715844,
     "user": {
      "displayName": "Dipam Chakraborty",
      "userId": "04496869744334527762"
     },
     "user_tz": -330
    },
    "id": "hAJ93y7My_vg",
    "outputId": "8e0f0dac-9a5a-44fb-f028-dee5cb469850"
   },
   "outputs": [
    {
     "name": "stdout",
     "output_type": "stream",
     "text": [
      "Total images: 2676\n"
     ]
    },
    {
     "name": "stderr",
     "output_type": "stream",
     "text": [
      "Downloading: \"https://github.com/ultralytics/yolov5/zipball/master\" to /root/.cache/torch/hub/master.zip\n",
      "\u001b[31m\u001b[1mrequirements:\u001b[0m Ultralytics requirement \"gitpython>=3.1.30\" not found, attempting AutoUpdate...\n",
      "Collecting gitpython>=3.1.30\n",
      "  Downloading GitPython-3.1.31-py3-none-any.whl (184 kB)\n",
      "     ━━━━━━━━━━━━━━━━━━━━━━━━━━━━━━━━━━━━━━ 184.3/184.3 kB 13.7 MB/s eta 0:00:00\n",
      "Requirement already satisfied: gitdb<5,>=4.0.1 in /usr/local/lib/python3.10/dist-packages (from gitpython>=3.1.30) (4.0.10)\n",
      "Requirement already satisfied: smmap<6,>=3.0.1 in /usr/local/lib/python3.10/dist-packages (from gitdb<5,>=4.0.1->gitpython>=3.1.30) (5.0.0)\n",
      "Installing collected packages: gitpython\n",
      "  Attempting uninstall: gitpython\n",
      "    Found existing installation: GitPython 3.1.18\n",
      "    Uninstalling GitPython-3.1.18:\n",
      "      Successfully uninstalled GitPython-3.1.18\n",
      "Successfully installed gitpython-3.1.31\n",
      "\n",
      "\u001b[31m\u001b[1mrequirements:\u001b[0m 1 package updated per /root/.cache/torch/hub/ultralytics_yolov5_master/requirements.txt\n",
      "\u001b[31m\u001b[1mrequirements:\u001b[0m ⚠️ \u001b[1mRestart runtime or rerun command for updates to take effect\u001b[0m\n",
      "\n",
      "YOLOv5 🚀 2023-6-28 Python-3.10.12 torch-2.0.1+cu118 CPU\n",
      "\n",
      "Fusing layers... \n",
      "Model summary: 157 layers, 7026307 parameters, 0 gradients\n",
      "Adding AutoShape... \n"
     ]
    },
    {
     "data": {
      "application/vnd.jupyter.widget-view+json": {
       "model_id": "7504884b1f324df8b8759ea22c16d7f6",
       "version_major": 2,
       "version_minor": 0
      },
      "text/plain": [
       "  0%|          | 0/2676 [00:00<?, ?it/s]"
      ]
     },
     "metadata": {},
     "output_type": "display_data"
    },
    {
     "name": "stdout",
     "output_type": "stream",
     "text": [
      "No results from yolov5 model!\n",
      "No results from yolov5 model!\n",
      "No results from yolov5 model!\n",
      "No results from yolov5 model!\n",
      "No results from yolov5 model!\n",
      "No results from yolov5 model!\n",
      "No results from yolov5 model!\n",
      "No results from yolov5 model!\n",
      "No results from yolov5 model!\n",
      "No results from yolov5 model!\n",
      "No results from yolov5 model!\n",
      "No results from yolov5 model!\n",
      "No results from yolov5 model!\n",
      "No results from yolov5 model!\n",
      "No results from yolov5 model!\n",
      "No results from yolov5 model!\n",
      "No results from yolov5 model!\n",
      "No results from yolov5 model!\n",
      "No results from yolov5 model!\n",
      "No results from yolov5 model!\n",
      "No results from yolov5 model!\n",
      "No results from yolov5 model!\n",
      "No results from yolov5 model!\n",
      "No results from yolov5 model!\n"
     ]
    }
   ],
   "source": [
    "# path to dataset\n",
    "root_images = os.path.join(TEST_DATA_DIR)\n",
    "\n",
    "all_images = os.listdir(root_images)\n",
    "print(f\"Total images: {len(all_images)}\")\n",
    "\n",
    "class_labels = {\n",
    "    \"aegypti\":      0,\n",
    "    \"albopictus\":   1,\n",
    "    \"anopheles\":    2,\n",
    "    \"culex\":        3,\n",
    "    \"culiseta\":     4,\n",
    "    \"japonicus/koreicus\": 5\n",
    "}\n",
    "\n",
    "# counter for correctly recognized mosquito classes\n",
    "counter = 0\n",
    "labels_counter = 0\n",
    "no_mosquito_detected = 0\n",
    "rows = []\n",
    "\n",
    "# yolov5 challenge trained baseline\n",
    "trained_model_pretrained = \"mosquitoalert-yolov5-baseline.pt\"\n",
    "\n",
    "# yolov5_model\n",
    "# Colab gets an error on this -> Use Runtime -> Restart Session (The data will not be deleted)\n",
    "yolov5_model = torch.hub.load('ultralytics/yolov5', 'custom', path = trained_model_pretrained, force_reload = True)\n",
    "\n",
    "for original_image in tqdm(all_images):\n",
    "    try:\n",
    "        original_image_file = os.path.join(root_images, original_image)\n",
    "        # checking if it is a file\n",
    "        if os.path.isfile(original_image_file):\n",
    "            # opening testing image\n",
    "            # print(f'You are watching: {original_image}')\n",
    "            # classifying image by yolov5 model\n",
    "            predictedInformation = classify_image(original_image_file)\n",
    "            mosquito_class_name_predicted = \"\"\n",
    "            mosquito_class_number_predicted = \"\"\n",
    "            mosquito_class_confidence = 0\n",
    "            mosquito_class_bbox = [0, 0, 0, 0]\n",
    "\n",
    "            if predictedInformation:\n",
    "                mosquito_class_name_predicted = extract_predicted_mosquito_class_name(predictedInformation)\n",
    "                mosquito_class_number_predicted = extract_predicted_mosquito_class_number(predictedInformation)\n",
    "                mosquito_class_confidence = extract_predicted_mosquito_class_confidence(predictedInformation)\n",
    "                mosquito_class_bbox = extract_predicted_mosquito_bbox(predictedInformation)\n",
    "                counter += 1\n",
    "            else:\n",
    "                no_mosquito_detected += 1\n",
    "            # print(f\"Predicted mosquito class: {mosquito_class_name_predicted} with {float(mosquito_class_confidence):.2f} confidence score.\")\n",
    "            #  bbox = [xmin, ymin, xmax, ymax]\n",
    "            # create row for csv file\n",
    "            row = [original_image, mosquito_class_name_predicted, mosquito_class_number_predicted, mosquito_class_confidence,\n",
    "                   mosquito_class_bbox[0], mosquito_class_bbox[1], mosquito_class_bbox[2], mosquito_class_bbox[3]]\n",
    "            rows.append(row)\n",
    "            labels_counter += 1\n",
    "            # print(f\"Finished file reading, file {original_image} read correctly!\")\n",
    "    except Exception as e:\n",
    "        print(f'Unable to process file: {original_image}!')\n",
    "        print(f'Exception: {e}!')"
   ]
  },
  {
   "cell_type": "code",
   "execution_count": 7,
   "metadata": {
    "colab": {
     "base_uri": "https://localhost:8080/",
     "height": 206
    },
    "executionInfo": {
     "elapsed": 414,
     "status": "ok",
     "timestamp": 1687954717501,
     "user": {
      "displayName": "Dipam Chakraborty",
      "userId": "04496869744334527762"
     },
     "user_tz": -330
    },
    "id": "42TXR0FTy_vh",
    "outputId": "d0f96d2c-5009-4c72-9bfd-d6c0fa159df7"
   },
   "outputs": [
    {
     "data": {
      "text/html": [
       "\n",
       "  <div id=\"df-b37c8901-955a-4106-9f66-dc14cb011ced\">\n",
       "    <div class=\"colab-df-container\">\n",
       "      <div>\n",
       "<style scoped>\n",
       "    .dataframe tbody tr th:only-of-type {\n",
       "        vertical-align: middle;\n",
       "    }\n",
       "\n",
       "    .dataframe tbody tr th {\n",
       "        vertical-align: top;\n",
       "    }\n",
       "\n",
       "    .dataframe thead th {\n",
       "        text-align: right;\n",
       "    }\n",
       "</style>\n",
       "<table border=\"1\" class=\"dataframe\">\n",
       "  <thead>\n",
       "    <tr style=\"text-align: right;\">\n",
       "      <th></th>\n",
       "      <th>img_fName</th>\n",
       "      <th>class_label</th>\n",
       "      <th>bbx_xtl</th>\n",
       "      <th>bbx_ytl</th>\n",
       "      <th>bbx_xbr</th>\n",
       "      <th>bbx_ybr</th>\n",
       "    </tr>\n",
       "  </thead>\n",
       "  <tbody>\n",
       "    <tr>\n",
       "      <th>0</th>\n",
       "      <td>751b3f5c-3031-4312-aede-b164889610fc.jpeg</td>\n",
       "      <td>albopictus</td>\n",
       "      <td>246.53277587890625</td>\n",
       "      <td>189.07186889648438</td>\n",
       "      <td>476.0340270996094</td>\n",
       "      <td>413.14471435546875</td>\n",
       "    </tr>\n",
       "    <tr>\n",
       "      <th>1</th>\n",
       "      <td>b21d1a3c-f417-41f2-abff-8565fb48f008.jpeg</td>\n",
       "      <td>culex</td>\n",
       "      <td>352.280029296875</td>\n",
       "      <td>375.5829162597656</td>\n",
       "      <td>463.6744689941406</td>\n",
       "      <td>489.3329162597656</td>\n",
       "    </tr>\n",
       "    <tr>\n",
       "      <th>2</th>\n",
       "      <td>4d2b9f10-614c-47ed-8126-ed3f0c58cd76.jpeg</td>\n",
       "      <td>albopictus</td>\n",
       "      <td>940.1656494140625</td>\n",
       "      <td>1120.868896484375</td>\n",
       "      <td>1883.7869873046875</td>\n",
       "      <td>1953.6861572265625</td>\n",
       "    </tr>\n",
       "    <tr>\n",
       "      <th>3</th>\n",
       "      <td>013aefb4-829a-445c-8b52-59a52badb050.jpeg</td>\n",
       "      <td>japonicus-koreicus</td>\n",
       "      <td>1356.7244873046875</td>\n",
       "      <td>1233.9964599609375</td>\n",
       "      <td>2903.752197265625</td>\n",
       "      <td>2074.76025390625</td>\n",
       "    </tr>\n",
       "    <tr>\n",
       "      <th>4</th>\n",
       "      <td>6c3a2882-a266-4d59-b014-904bfbc9c3fd.jpeg</td>\n",
       "      <td>albopictus</td>\n",
       "      <td>392.6656494140625</td>\n",
       "      <td>355.2624816894531</td>\n",
       "      <td>699.4199829101562</td>\n",
       "      <td>625.9489135742188</td>\n",
       "    </tr>\n",
       "  </tbody>\n",
       "</table>\n",
       "</div>\n",
       "      <button class=\"colab-df-convert\" onclick=\"convertToInteractive('df-b37c8901-955a-4106-9f66-dc14cb011ced')\"\n",
       "              title=\"Convert this dataframe to an interactive table.\"\n",
       "              style=\"display:none;\">\n",
       "        \n",
       "  <svg xmlns=\"http://www.w3.org/2000/svg\" height=\"24px\"viewBox=\"0 0 24 24\"\n",
       "       width=\"24px\">\n",
       "    <path d=\"M0 0h24v24H0V0z\" fill=\"none\"/>\n",
       "    <path d=\"M18.56 5.44l.94 2.06.94-2.06 2.06-.94-2.06-.94-.94-2.06-.94 2.06-2.06.94zm-11 1L8.5 8.5l.94-2.06 2.06-.94-2.06-.94L8.5 2.5l-.94 2.06-2.06.94zm10 10l.94 2.06.94-2.06 2.06-.94-2.06-.94-.94-2.06-.94 2.06-2.06.94z\"/><path d=\"M17.41 7.96l-1.37-1.37c-.4-.4-.92-.59-1.43-.59-.52 0-1.04.2-1.43.59L10.3 9.45l-7.72 7.72c-.78.78-.78 2.05 0 2.83L4 21.41c.39.39.9.59 1.41.59.51 0 1.02-.2 1.41-.59l7.78-7.78 2.81-2.81c.8-.78.8-2.07 0-2.86zM5.41 20L4 18.59l7.72-7.72 1.47 1.35L5.41 20z\"/>\n",
       "  </svg>\n",
       "      </button>\n",
       "      \n",
       "  <style>\n",
       "    .colab-df-container {\n",
       "      display:flex;\n",
       "      flex-wrap:wrap;\n",
       "      gap: 12px;\n",
       "    }\n",
       "\n",
       "    .colab-df-convert {\n",
       "      background-color: #E8F0FE;\n",
       "      border: none;\n",
       "      border-radius: 50%;\n",
       "      cursor: pointer;\n",
       "      display: none;\n",
       "      fill: #1967D2;\n",
       "      height: 32px;\n",
       "      padding: 0 0 0 0;\n",
       "      width: 32px;\n",
       "    }\n",
       "\n",
       "    .colab-df-convert:hover {\n",
       "      background-color: #E2EBFA;\n",
       "      box-shadow: 0px 1px 2px rgba(60, 64, 67, 0.3), 0px 1px 3px 1px rgba(60, 64, 67, 0.15);\n",
       "      fill: #174EA6;\n",
       "    }\n",
       "\n",
       "    [theme=dark] .colab-df-convert {\n",
       "      background-color: #3B4455;\n",
       "      fill: #D2E3FC;\n",
       "    }\n",
       "\n",
       "    [theme=dark] .colab-df-convert:hover {\n",
       "      background-color: #434B5C;\n",
       "      box-shadow: 0px 1px 3px 1px rgba(0, 0, 0, 0.15);\n",
       "      filter: drop-shadow(0px 1px 2px rgba(0, 0, 0, 0.3));\n",
       "      fill: #FFFFFF;\n",
       "    }\n",
       "  </style>\n",
       "\n",
       "      <script>\n",
       "        const buttonEl =\n",
       "          document.querySelector('#df-b37c8901-955a-4106-9f66-dc14cb011ced button.colab-df-convert');\n",
       "        buttonEl.style.display =\n",
       "          google.colab.kernel.accessAllowed ? 'block' : 'none';\n",
       "\n",
       "        async function convertToInteractive(key) {\n",
       "          const element = document.querySelector('#df-b37c8901-955a-4106-9f66-dc14cb011ced');\n",
       "          const dataTable =\n",
       "            await google.colab.kernel.invokeFunction('convertToInteractive',\n",
       "                                                     [key], {});\n",
       "          if (!dataTable) return;\n",
       "\n",
       "          const docLinkHtml = 'Like what you see? Visit the ' +\n",
       "            '<a target=\"_blank\" href=https://colab.research.google.com/notebooks/data_table.ipynb>data table notebook</a>'\n",
       "            + ' to learn more about interactive tables.';\n",
       "          element.innerHTML = '';\n",
       "          dataTable['output_type'] = 'display_data';\n",
       "          await google.colab.output.renderOutput(dataTable, element);\n",
       "          const docLink = document.createElement('div');\n",
       "          docLink.innerHTML = docLinkHtml;\n",
       "          element.appendChild(docLink);\n",
       "        }\n",
       "      </script>\n",
       "    </div>\n",
       "  </div>\n",
       "  "
      ],
      "text/plain": [
       "                                   img_fName         class_label  \\\n",
       "0  751b3f5c-3031-4312-aede-b164889610fc.jpeg          albopictus   \n",
       "1  b21d1a3c-f417-41f2-abff-8565fb48f008.jpeg               culex   \n",
       "2  4d2b9f10-614c-47ed-8126-ed3f0c58cd76.jpeg          albopictus   \n",
       "3  013aefb4-829a-445c-8b52-59a52badb050.jpeg  japonicus-koreicus   \n",
       "4  6c3a2882-a266-4d59-b014-904bfbc9c3fd.jpeg          albopictus   \n",
       "\n",
       "              bbx_xtl             bbx_ytl             bbx_xbr  \\\n",
       "0  246.53277587890625  189.07186889648438   476.0340270996094   \n",
       "1    352.280029296875   375.5829162597656   463.6744689941406   \n",
       "2   940.1656494140625   1120.868896484375  1883.7869873046875   \n",
       "3  1356.7244873046875  1233.9964599609375   2903.752197265625   \n",
       "4   392.6656494140625   355.2624816894531   699.4199829101562   \n",
       "\n",
       "              bbx_ybr  \n",
       "0  413.14471435546875  \n",
       "1   489.3329162597656  \n",
       "2  1953.6861572265625  \n",
       "3    2074.76025390625  \n",
       "4   625.9489135742188  "
      ]
     },
     "execution_count": 7,
     "metadata": {},
     "output_type": "execute_result"
    }
   ],
   "source": [
    "df = pd.DataFrame(rows, columns=[\"img_fName\", \"class_label\", \"predicted_class_number\", \"confidence_score\", \"bbx_xtl\", \"bbx_ytl\", \"bbx_xbr\", \"bbx_ybr\"])\n",
    "sub_df = df.drop(['predicted_class_number', 'confidence_score'], axis=1, inplace=False)\n",
    "sub_df.head()"
   ]
  },
  {
   "cell_type": "code",
   "execution_count": 8,
   "metadata": {
    "executionInfo": {
     "elapsed": 6,
     "status": "ok",
     "timestamp": 1687954717502,
     "user": {
      "displayName": "Dipam Chakraborty",
      "userId": "04496869744334527762"
     },
     "user_tz": -330
    },
    "id": "z5ybLd4Ay_vh"
   },
   "outputs": [],
   "source": [
    "sub_df.to_csv('submission_phase1.csv', index=False)"
   ]
  },
  {
   "cell_type": "code",
   "execution_count": 9,
   "metadata": {
    "colab": {
     "base_uri": "https://localhost:8080/"
    },
    "executionInfo": {
     "elapsed": 6380,
     "status": "ok",
     "timestamp": 1687954723876,
     "user": {
      "displayName": "Dipam Chakraborty",
      "userId": "04496869744334527762"
     },
     "user_tz": -330
    },
    "id": "2H9c5w-d160M",
    "outputId": "d9b7c63c-fbad-441c-e1bb-3516df4f8e55"
   },
   "outputs": [
    {
     "name": "stdout",
     "output_type": "stream",
     "text": [
      "\u001b[2K\u001b[1;34msubmission_phase1.csv\u001b[0m \u001b[91m━━━━\u001b[0m\u001b[91m╸\u001b[0m\u001b[90m━━━━━━━━\u001b[0m \u001b[35m35.4%\u001b[0m • \u001b[32m114.7/323.6  \u001b[0m • \u001b[31m713.3 kB/s\u001b[0m • \u001b[36m0:00:01\u001b[0m\n",
      "\u001b[2K\u001b[1A\u001b[2K\u001b[1;34msubmission_phase1.csv\u001b[0m \u001b[91m━━━━\u001b[0m\u001b[91m╸\u001b[0m\u001b[90m━━━━━━━━\u001b[0m \u001b[35m38.0%\u001b[0m • \u001b[32m122.9/323.6  \u001b[0m • \u001b[31m754.2 kB/s\u001b[0m • \u001b[36m0:00:01\u001b[0m\n",
      "\u001b[2K\u001b[1A\u001b[2K\u001b[1;34msubmission_phase1.csv\u001b[0m \u001b[91m━━━━━\u001b[0m\u001b[90m╺\u001b[0m\u001b[90m━━━━━━━\u001b[0m \u001b[35m40.5%\u001b[0m • \u001b[32m131.1/323.6  \u001b[0m • \u001b[31m797.3 kB/s\u001b[0m • \u001b[36m0:00:01\u001b[0m\n",
      "\u001b[2K\u001b[1A\u001b[2K\u001b[1;34msubmission_phase1.csv\u001b[0m \u001b[91m━━━━━\u001b[0m\u001b[91m╸\u001b[0m\u001b[90m━━━━━━━\u001b[0m \u001b[35m43.0%\u001b[0m • \u001b[32m139.3/323.6  \u001b[0m • \u001b[31m839.2 kB/s\u001b[0m • \u001b[36m0:00:01\u001b[0m\n",
      "\u001b[2K\u001b[1A\u001b[2K\u001b[1;34msubmission_phase1.csv\u001b[0m \u001b[91m━━━━━\u001b[0m\u001b[91m╸\u001b[0m\u001b[90m━━━━━━━\u001b[0m \u001b[35m45.6%\u001b[0m • \u001b[32m147.5/323.6  \u001b[0m • \u001b[31m880.7 kB/s\u001b[0m • \u001b[36m0:00:01\u001b[0m\n",
      "\u001b[2K\u001b[1A\u001b[2K\u001b[1;34msubmission_phase1.csv\u001b[0m \u001b[91m━━━━━━\u001b[0m\u001b[90m╺\u001b[0m\u001b[90m━━━━━━\u001b[0m \u001b[35m48.1%\u001b[0m • \u001b[32m155.6/323.6  \u001b[0m • \u001b[31m921.3 kB/s\u001b[0m • \u001b[36m0:00:01\u001b[0m\n",
      "\u001b[2K\u001b[1A\u001b[2K\u001b[1;34msubmission_phase1.csv\u001b[0m \u001b[91m━━━━━━\u001b[0m\u001b[91m╸\u001b[0m\u001b[90m━━━━━━\u001b[0m \u001b[35m50.6%\u001b[0m • \u001b[32m163.8/323.6  \u001b[0m • \u001b[31m961.1 kB/s\u001b[0m • \u001b[36m0:00:01\u001b[0m\n",
      "\u001b[2K\u001b[1A\u001b[2K\u001b[1;34msubmission_phase1.csv\u001b[0m \u001b[91m━━━━━━\u001b[0m\u001b[91m╸\u001b[0m\u001b[90m━━━━━━\u001b[0m \u001b[35m53.2%\u001b[0m • \u001b[32m172.0/323.6  \u001b[0m • \u001b[31m999.8 kB/s\u001b[0m • \u001b[36m0:00:01\u001b[0m\n",
      "\u001b[2K\u001b[1A\u001b[2K\u001b[1;34msubmission_phase1.csv\u001b[0m \u001b[91m━━━━━━\u001b[0m\u001b[91m╸\u001b[0m\u001b[90m━━━━━━\u001b[0m \u001b[35m53.2%\u001b[0m • \u001b[32m172.0/323.6  \u001b[0m • \u001b[31m999.8 kB/s\u001b[0m • \u001b[36m0:00:01\u001b[0m\n",
      "\u001b[2K\u001b[1A\u001b[2K\u001b[1;34msubmission_phase1.csv\u001b[0m \u001b[91m━━━━━━━\u001b[0m\u001b[90m╺\u001b[0m\u001b[90m━━━━━\u001b[0m \u001b[35m55.7%\u001b[0m • \u001b[32m180.2/323.6  \u001b[0m • \u001b[31m597.4 kB/s\u001b[0m • \u001b[36m0:00:01\u001b[0m\n",
      "\u001b[2K\u001b[1A\u001b[2K\u001b[1;34msubmission_phase1.csv\u001b[0m \u001b[91m━━━━━━━\u001b[0m\u001b[91m╸\u001b[0m\u001b[90m━━━━━\u001b[0m \u001b[35m58.2%\u001b[0m • \u001b[32m188.4/323.6  \u001b[0m • \u001b[31m619.6 kB/s\u001b[0m • \u001b[36m0:00:01\u001b[0m\n",
      "\u001b[2K\u001b[1A\u001b[2K\u001b[1;34msubmission_phase1.csv\u001b[0m \u001b[91m━━━━━━━\u001b[0m\u001b[91m╸\u001b[0m\u001b[90m━━━━━\u001b[0m \u001b[35m60.8%\u001b[0m • \u001b[32m196.6/323.6  \u001b[0m • \u001b[31m641.5 kB/s\u001b[0m • \u001b[36m0:00:01\u001b[0m\n",
      "\u001b[2K\u001b[1A\u001b[2K\u001b[1;34msubmission_phase1.csv\u001b[0m \u001b[91m━━━━━━━━\u001b[0m\u001b[90m╺\u001b[0m\u001b[90m━━━━\u001b[0m \u001b[35m63.3%\u001b[0m • \u001b[32m204.8/323.6  \u001b[0m • \u001b[31m664.4 kB/s\u001b[0m • \u001b[36m0:00:01\u001b[0m\n",
      "\u001b[2K\u001b[1A\u001b[2K\u001b[1;34msubmission_phase1.csv\u001b[0m \u001b[91m━━━━━━━━\u001b[0m\u001b[91m╸\u001b[0m\u001b[90m━━━━\u001b[0m \u001b[35m65.8%\u001b[0m • \u001b[32m213.0/323.6  \u001b[0m • \u001b[31m686.6 kB/s\u001b[0m • \u001b[36m0:00:01\u001b[0m\n",
      "\u001b[2K\u001b[1A\u001b[2K\u001b[1;34msubmission_phase1.csv\u001b[0m \u001b[91m━━━━━━━━\u001b[0m\u001b[91m╸\u001b[0m\u001b[90m━━━━\u001b[0m \u001b[35m68.4%\u001b[0m • \u001b[32m221.2/323.6  \u001b[0m • \u001b[31m709.4 kB/s\u001b[0m • \u001b[36m0:00:01\u001b[0m\n",
      "\u001b[2K\u001b[1A\u001b[2K\u001b[1;34msubmission_phase1.csv\u001b[0m \u001b[91m━━━━━━━━━\u001b[0m\u001b[90m╺\u001b[0m\u001b[90m━━━\u001b[0m \u001b[35m70.9%\u001b[0m • \u001b[32m229.4/323.6  \u001b[0m • \u001b[31m730.0 kB/s\u001b[0m • \u001b[36m0:00:01\u001b[0m\n",
      "\u001b[2K\u001b[1A\u001b[2K\u001b[1;34msubmission_phase1.csv\u001b[0m \u001b[91m━━━━━━━━━\u001b[0m\u001b[91m╸\u001b[0m\u001b[90m━━━\u001b[0m \u001b[35m73.4%\u001b[0m • \u001b[32m237.6/323.6  \u001b[0m • \u001b[31m751.5 kB/s\u001b[0m • \u001b[36m0:00:01\u001b[0m\n",
      "\u001b[2K\u001b[1A\u001b[2K\u001b[1;34msubmission_phase1.csv\u001b[0m \u001b[91m━━━━━━━━━\u001b[0m\u001b[91m╸\u001b[0m\u001b[90m━━━\u001b[0m \u001b[35m76.0%\u001b[0m • \u001b[32m245.8/323.6  \u001b[0m • \u001b[31m773.2 kB/s\u001b[0m • \u001b[36m0:00:01\u001b[0m\n",
      "\u001b[2K\u001b[1A\u001b[2K\u001b[1;34msubmission_phase1.csv\u001b[0m \u001b[91m━━━━━━━━━━\u001b[0m\u001b[90m╺\u001b[0m\u001b[90m━━\u001b[0m \u001b[35m78.5%\u001b[0m • \u001b[32m254.0/323.6  \u001b[0m • \u001b[31m794.7 kB/s\u001b[0m • \u001b[36m0:00:01\u001b[0m\n",
      "\u001b[2K\u001b[1A\u001b[2K\u001b[1;34msubmission_phase1.csv\u001b[0m \u001b[91m━━━━━━━━━━\u001b[0m\u001b[91m╸\u001b[0m\u001b[90m━━\u001b[0m \u001b[35m81.0%\u001b[0m • \u001b[32m262.1/323.6  \u001b[0m • \u001b[31m816.1 kB/s\u001b[0m • \u001b[36m0:00:01\u001b[0m\n",
      "\u001b[2K\u001b[1A\u001b[2K\u001b[1;34msubmission_phase1.csv\u001b[0m \u001b[91m━━━━━━━━━━\u001b[0m\u001b[91m╸\u001b[0m\u001b[90m━━\u001b[0m \u001b[35m81.0%\u001b[0m • \u001b[32m262.1/323.6  \u001b[0m • \u001b[31m816.1 kB/s\u001b[0m • \u001b[36m0:00:01\u001b[0m\n",
      "\u001b[2K\u001b[1A\u001b[2K\u001b[1;34msubmission_phase1.csv\u001b[0m \u001b[91m━━━━━━━━━━\u001b[0m\u001b[91m╸\u001b[0m\u001b[90m━━\u001b[0m \u001b[35m83.5%\u001b[0m • \u001b[32m270.3/323.6  \u001b[0m • \u001b[31m609.4 kB/s\u001b[0m • \u001b[36m0:00:01\u001b[0m\n",
      "\u001b[2K\u001b[1A\u001b[2K\u001b[1;34msubmission_phase1.csv\u001b[0m \u001b[91m━━━━━━━━━━━\u001b[0m\u001b[90m╺\u001b[0m\u001b[90m━\u001b[0m \u001b[35m86.1%\u001b[0m • \u001b[32m278.5/323.6  \u001b[0m • \u001b[31m623.5 kB/s\u001b[0m • \u001b[36m0:00:01\u001b[0m\n",
      "\u001b[2K\u001b[1A\u001b[2K\u001b[1;34msubmission_phase1.csv\u001b[0m \u001b[91m━━━━━━━━━━━\u001b[0m\u001b[90m╺\u001b[0m\u001b[90m━\u001b[0m \u001b[35m86.1%\u001b[0m • \u001b[32m278.5/323.6  \u001b[0m • \u001b[31m623.5 kB/s\u001b[0m • \u001b[36m0:00:01\u001b[0m\n",
      "\u001b[2K\u001b[1A\u001b[2K\u001b[1;34msubmission_phase1.csv\u001b[0m \u001b[91m━━━━━━━━━━━\u001b[0m\u001b[91m╸\u001b[0m\u001b[90m━\u001b[0m \u001b[35m88.6%\u001b[0m • \u001b[32m286.7/323.6  \u001b[0m • \u001b[31m635.8 kB/s\u001b[0m • \u001b[36m0:00:01\u001b[0m\n",
      "\u001b[2K\u001b[1A\u001b[2K\u001b[1;34msubmission_phase1.csv\u001b[0m \u001b[91m━━━━━━━━━━━\u001b[0m\u001b[91m╸\u001b[0m\u001b[90m━\u001b[0m \u001b[35m91.1%\u001b[0m • \u001b[32m294.9/323.6  \u001b[0m • \u001b[31m651.3 kB/s\u001b[0m • \u001b[36m0:00:01\u001b[0m\n",
      "\u001b[2K\u001b[1A\u001b[2K\u001b[1;34msubmission_phase1.csv\u001b[0m \u001b[91m━━━━━━━━━━━━\u001b[0m\u001b[90m╺\u001b[0m \u001b[35m93.7%\u001b[0m • \u001b[32m303.1/323.6  \u001b[0m • \u001b[31m666.9 kB/s\u001b[0m • \u001b[36m0:00:01\u001b[0m\n",
      "\u001b[2K\u001b[1A\u001b[2K\u001b[1;34msubmission_phase1.csv\u001b[0m \u001b[91m━━━━━━━━━━━━\u001b[0m\u001b[91m╸\u001b[0m \u001b[35m96.2%\u001b[0m • \u001b[32m311.3/323.6  \u001b[0m • \u001b[31m682.2 kB/s\u001b[0m • \u001b[36m0:00:01\u001b[0m\n",
      "\u001b[2K\u001b[1A\u001b[2K\u001b[1;34msubmission_phase1.csv\u001b[0m \u001b[91m━━━━━━━━━━━━\u001b[0m\u001b[91m╸\u001b[0m \u001b[35m98.7%\u001b[0m • \u001b[32m319.5/323.6  \u001b[0m • \u001b[31m697.5 kB/s\u001b[0m • \u001b[36m0:00:01\u001b[0m\n",
      "\u001b[2K\u001b[1A\u001b[2K\u001b[1;34msubmission_phase1.csv\u001b[0m \u001b[90m━━━━━━━━━━━━\u001b[0m \u001b[35m100.0%\u001b[0m • \u001b[32m325.2/323.6  \u001b[0m • \u001b[31m707.3 kB/s\u001b[0m • \u001b[36m0:00:00\u001b[0m\n",
      "\u001b[2K\u001b[1A\u001b[2K\u001b[1;34msubmission_phase1.csv\u001b[0m \u001b[90m━━━━━━━━━━━━\u001b[0m \u001b[35m100.0%\u001b[0m • \u001b[32m325.2/323.6  \u001b[0m • \u001b[31m707.3 kB/s\u001b[0m • \u001b[36m0:00:00\u001b[0m\n",
      "\u001b[2K\u001b[1A\u001b[2K\u001b[1;34msubmission_phase1.csv\u001b[0m \u001b[90m━━━━━━━━━━━━\u001b[0m \u001b[35m100.0%\u001b[0m • \u001b[32m325.2/323.6  \u001b[0m • \u001b[31m707.3 kB/s\u001b[0m • \u001b[36m0:00:00\u001b[0m\n",
      "\u001b[2K\u001b[1A\u001b[2K\u001b[1;34msubmission_phase1.csv\u001b[0m \u001b[90m━━━━━━━━━━━━\u001b[0m \u001b[35m100.0%\u001b[0m • \u001b[32m325.2/323.6  \u001b[0m • \u001b[31m707.3 kB/s\u001b[0m • \u001b[36m0:00:00\u001b[0m\n",
      "\u001b[2K\u001b[1A\u001b[2K\u001b[1;34msubmission_phase1.csv\u001b[0m \u001b[90m━━━━━━━━━━━━\u001b[0m \u001b[35m100.0%\u001b[0m • \u001b[32m325.2/323.6  \u001b[0m • \u001b[31m707.3 kB/s\u001b[0m • \u001b[36m0:00:00\u001b[0m\n",
      "                                            \u001b[32mKB           \u001b[0m                       \n",
      "\u001b[?25h                                             ╭─────────────────────────╮                                              \n",
      "                                             │ \u001b[1mSuccessfully submitted!\u001b[0m │                                              \n",
      "                                             ╰─────────────────────────╯                                              \n",
      "\u001b[3m                                                   Important links                                                    \u001b[0m\n",
      "┌──────────────────┬─────────────────────────────────────────────────────────────────────────────────────────────────┐\n",
      "│  This submission │ https://www.aicrowd.com/challenges/mosquitoalert-challenge-2023/submissions/235641              │\n",
      "│                  │                                                                                                 │\n",
      "│  All submissions │ https://www.aicrowd.com/challenges/mosquitoalert-challenge-2023/submissions?my_submissions=true │\n",
      "│                  │                                                                                                 │\n",
      "│      Leaderboard │ https://www.aicrowd.com/challenges/mosquitoalert-challenge-2023/leaderboards                    │\n",
      "│                  │                                                                                                 │\n",
      "│ Discussion forum │ https://discourse.aicrowd.com/c/mosquitoalert-challenge-2023                                    │\n",
      "│                  │                                                                                                 │\n",
      "│   Challenge page │ https://www.aicrowd.com/challenges/mosquitoalert-challenge-2023                                 │\n",
      "└──────────────────┴─────────────────────────────────────────────────────────────────────────────────────────────────┘\n",
      "{'submission_id': 235641, 'created_at': '2023-06-28T12:18:42.976Z'}\n"
     ]
    }
   ],
   "source": [
    "!aicrowd submission create -c mosquitoalert-challenge-2023 -f \"submission_phase1.csv\""
   ]
  }
 ],
 "metadata": {
  "colab": {
   "provenance": []
  },
  "kernelspec": {
   "display_name": "Python 3 (ipykernel)",
   "language": "python",
   "name": "python3"
  },
  "language_info": {
   "codemirror_mode": {
    "name": "ipython",
    "version": 3
   },
   "file_extension": ".py",
   "mimetype": "text/x-python",
   "name": "python",
   "nbconvert_exporter": "python",
   "pygments_lexer": "ipython3",
   "version": "3.9.16"
  },
  "widgets": {
   "application/vnd.jupyter.widget-state+json": {
    "01fb0c2c0190473e9d3ff6aa685ec6da": {
     "model_module": "@jupyter-widgets/controls",
     "model_module_version": "1.5.0",
     "model_name": "HTMLModel",
     "state": {
      "_dom_classes": [],
      "_model_module": "@jupyter-widgets/controls",
      "_model_module_version": "1.5.0",
      "_model_name": "HTMLModel",
      "_view_count": null,
      "_view_module": "@jupyter-widgets/controls",
      "_view_module_version": "1.5.0",
      "_view_name": "HTMLView",
      "description": "",
      "description_tooltip": null,
      "layout": "IPY_MODEL_aa40974915a547aaad97da75116eeb76",
      "placeholder": "​",
      "style": "IPY_MODEL_d0b4fa7496ac4e71abfd958ba0357a3a",
      "value": "100%"
     }
    },
    "0e17c84731e14aee9738a2ede3f6f388": {
     "model_module": "@jupyter-widgets/controls",
     "model_module_version": "1.5.0",
     "model_name": "HTMLModel",
     "state": {
      "_dom_classes": [],
      "_model_module": "@jupyter-widgets/controls",
      "_model_module_version": "1.5.0",
      "_model_name": "HTMLModel",
      "_view_count": null,
      "_view_module": "@jupyter-widgets/controls",
      "_view_module_version": "1.5.0",
      "_view_name": "HTMLView",
      "description": "",
      "description_tooltip": null,
      "layout": "IPY_MODEL_41891e0b09824e2d899c6fd69291f56b",
      "placeholder": "​",
      "style": "IPY_MODEL_12067b7c776e436087e5b190c76b96a9",
      "value": " 2676/2676 [11:00&lt;00:00,  4.01it/s]"
     }
    },
    "12067b7c776e436087e5b190c76b96a9": {
     "model_module": "@jupyter-widgets/controls",
     "model_module_version": "1.5.0",
     "model_name": "DescriptionStyleModel",
     "state": {
      "_model_module": "@jupyter-widgets/controls",
      "_model_module_version": "1.5.0",
      "_model_name": "DescriptionStyleModel",
      "_view_count": null,
      "_view_module": "@jupyter-widgets/base",
      "_view_module_version": "1.2.0",
      "_view_name": "StyleView",
      "description_width": ""
     }
    },
    "26193cb605e34cb0b08da64ab30e99db": {
     "model_module": "@jupyter-widgets/base",
     "model_module_version": "1.2.0",
     "model_name": "LayoutModel",
     "state": {
      "_model_module": "@jupyter-widgets/base",
      "_model_module_version": "1.2.0",
      "_model_name": "LayoutModel",
      "_view_count": null,
      "_view_module": "@jupyter-widgets/base",
      "_view_module_version": "1.2.0",
      "_view_name": "LayoutView",
      "align_content": null,
      "align_items": null,
      "align_self": null,
      "border": null,
      "bottom": null,
      "display": null,
      "flex": null,
      "flex_flow": null,
      "grid_area": null,
      "grid_auto_columns": null,
      "grid_auto_flow": null,
      "grid_auto_rows": null,
      "grid_column": null,
      "grid_gap": null,
      "grid_row": null,
      "grid_template_areas": null,
      "grid_template_columns": null,
      "grid_template_rows": null,
      "height": null,
      "justify_content": null,
      "justify_items": null,
      "left": null,
      "margin": null,
      "max_height": null,
      "max_width": null,
      "min_height": null,
      "min_width": null,
      "object_fit": null,
      "object_position": null,
      "order": null,
      "overflow": null,
      "overflow_x": null,
      "overflow_y": null,
      "padding": null,
      "right": null,
      "top": null,
      "visibility": null,
      "width": null
     }
    },
    "41891e0b09824e2d899c6fd69291f56b": {
     "model_module": "@jupyter-widgets/base",
     "model_module_version": "1.2.0",
     "model_name": "LayoutModel",
     "state": {
      "_model_module": "@jupyter-widgets/base",
      "_model_module_version": "1.2.0",
      "_model_name": "LayoutModel",
      "_view_count": null,
      "_view_module": "@jupyter-widgets/base",
      "_view_module_version": "1.2.0",
      "_view_name": "LayoutView",
      "align_content": null,
      "align_items": null,
      "align_self": null,
      "border": null,
      "bottom": null,
      "display": null,
      "flex": null,
      "flex_flow": null,
      "grid_area": null,
      "grid_auto_columns": null,
      "grid_auto_flow": null,
      "grid_auto_rows": null,
      "grid_column": null,
      "grid_gap": null,
      "grid_row": null,
      "grid_template_areas": null,
      "grid_template_columns": null,
      "grid_template_rows": null,
      "height": null,
      "justify_content": null,
      "justify_items": null,
      "left": null,
      "margin": null,
      "max_height": null,
      "max_width": null,
      "min_height": null,
      "min_width": null,
      "object_fit": null,
      "object_position": null,
      "order": null,
      "overflow": null,
      "overflow_x": null,
      "overflow_y": null,
      "padding": null,
      "right": null,
      "top": null,
      "visibility": null,
      "width": null
     }
    },
    "446bacc8236a4a879d262f578b514165": {
     "model_module": "@jupyter-widgets/controls",
     "model_module_version": "1.5.0",
     "model_name": "FloatProgressModel",
     "state": {
      "_dom_classes": [],
      "_model_module": "@jupyter-widgets/controls",
      "_model_module_version": "1.5.0",
      "_model_name": "FloatProgressModel",
      "_view_count": null,
      "_view_module": "@jupyter-widgets/controls",
      "_view_module_version": "1.5.0",
      "_view_name": "ProgressView",
      "bar_style": "success",
      "description": "",
      "description_tooltip": null,
      "layout": "IPY_MODEL_4c12973efdba4dabbdae8f94e4795ce4",
      "max": 2676,
      "min": 0,
      "orientation": "horizontal",
      "style": "IPY_MODEL_5924b4c947aa45c59d43836b79b6724e",
      "value": 2676
     }
    },
    "4c12973efdba4dabbdae8f94e4795ce4": {
     "model_module": "@jupyter-widgets/base",
     "model_module_version": "1.2.0",
     "model_name": "LayoutModel",
     "state": {
      "_model_module": "@jupyter-widgets/base",
      "_model_module_version": "1.2.0",
      "_model_name": "LayoutModel",
      "_view_count": null,
      "_view_module": "@jupyter-widgets/base",
      "_view_module_version": "1.2.0",
      "_view_name": "LayoutView",
      "align_content": null,
      "align_items": null,
      "align_self": null,
      "border": null,
      "bottom": null,
      "display": null,
      "flex": null,
      "flex_flow": null,
      "grid_area": null,
      "grid_auto_columns": null,
      "grid_auto_flow": null,
      "grid_auto_rows": null,
      "grid_column": null,
      "grid_gap": null,
      "grid_row": null,
      "grid_template_areas": null,
      "grid_template_columns": null,
      "grid_template_rows": null,
      "height": null,
      "justify_content": null,
      "justify_items": null,
      "left": null,
      "margin": null,
      "max_height": null,
      "max_width": null,
      "min_height": null,
      "min_width": null,
      "object_fit": null,
      "object_position": null,
      "order": null,
      "overflow": null,
      "overflow_x": null,
      "overflow_y": null,
      "padding": null,
      "right": null,
      "top": null,
      "visibility": null,
      "width": null
     }
    },
    "5924b4c947aa45c59d43836b79b6724e": {
     "model_module": "@jupyter-widgets/controls",
     "model_module_version": "1.5.0",
     "model_name": "ProgressStyleModel",
     "state": {
      "_model_module": "@jupyter-widgets/controls",
      "_model_module_version": "1.5.0",
      "_model_name": "ProgressStyleModel",
      "_view_count": null,
      "_view_module": "@jupyter-widgets/base",
      "_view_module_version": "1.2.0",
      "_view_name": "StyleView",
      "bar_color": null,
      "description_width": ""
     }
    },
    "7504884b1f324df8b8759ea22c16d7f6": {
     "model_module": "@jupyter-widgets/controls",
     "model_module_version": "1.5.0",
     "model_name": "HBoxModel",
     "state": {
      "_dom_classes": [],
      "_model_module": "@jupyter-widgets/controls",
      "_model_module_version": "1.5.0",
      "_model_name": "HBoxModel",
      "_view_count": null,
      "_view_module": "@jupyter-widgets/controls",
      "_view_module_version": "1.5.0",
      "_view_name": "HBoxView",
      "box_style": "",
      "children": [
       "IPY_MODEL_01fb0c2c0190473e9d3ff6aa685ec6da",
       "IPY_MODEL_446bacc8236a4a879d262f578b514165",
       "IPY_MODEL_0e17c84731e14aee9738a2ede3f6f388"
      ],
      "layout": "IPY_MODEL_26193cb605e34cb0b08da64ab30e99db"
     }
    },
    "aa40974915a547aaad97da75116eeb76": {
     "model_module": "@jupyter-widgets/base",
     "model_module_version": "1.2.0",
     "model_name": "LayoutModel",
     "state": {
      "_model_module": "@jupyter-widgets/base",
      "_model_module_version": "1.2.0",
      "_model_name": "LayoutModel",
      "_view_count": null,
      "_view_module": "@jupyter-widgets/base",
      "_view_module_version": "1.2.0",
      "_view_name": "LayoutView",
      "align_content": null,
      "align_items": null,
      "align_self": null,
      "border": null,
      "bottom": null,
      "display": null,
      "flex": null,
      "flex_flow": null,
      "grid_area": null,
      "grid_auto_columns": null,
      "grid_auto_flow": null,
      "grid_auto_rows": null,
      "grid_column": null,
      "grid_gap": null,
      "grid_row": null,
      "grid_template_areas": null,
      "grid_template_columns": null,
      "grid_template_rows": null,
      "height": null,
      "justify_content": null,
      "justify_items": null,
      "left": null,
      "margin": null,
      "max_height": null,
      "max_width": null,
      "min_height": null,
      "min_width": null,
      "object_fit": null,
      "object_position": null,
      "order": null,
      "overflow": null,
      "overflow_x": null,
      "overflow_y": null,
      "padding": null,
      "right": null,
      "top": null,
      "visibility": null,
      "width": null
     }
    },
    "d0b4fa7496ac4e71abfd958ba0357a3a": {
     "model_module": "@jupyter-widgets/controls",
     "model_module_version": "1.5.0",
     "model_name": "DescriptionStyleModel",
     "state": {
      "_model_module": "@jupyter-widgets/controls",
      "_model_module_version": "1.5.0",
      "_model_name": "DescriptionStyleModel",
      "_view_count": null,
      "_view_module": "@jupyter-widgets/base",
      "_view_module_version": "1.2.0",
      "_view_name": "StyleView",
      "description_width": ""
     }
    }
   }
  }
 },
 "nbformat": 4,
 "nbformat_minor": 1
}
