{
 "cells": [
  {
   "cell_type": "code",
   "execution_count": 7,
   "id": "14a3872f",
   "metadata": {},
   "outputs": [
    {
     "name": "stderr",
     "output_type": "stream",
     "text": [
      "\n",
      "image 1/1 /home/cemmi/Documents/aicrowd-mos/data/test/0a44fd53-08c7-4690-9a11-614b53825576.jpeg: 1024x1024 1 culex, 3.3ms\n",
      "Speed: 2.8ms preprocess, 3.3ms inference, 0.8ms postprocess per image at shape (1, 3, 1024, 1024)\n"
     ]
    }
   ],
   "source": [
    "from ultralytics import YOLO\n",
    "\n",
    "# Load the model\n",
    "model = YOLO('runs/detect/train7/weights/best.pt')  # load a pretrained model\n",
    "\n",
    "# Perform inference\n",
    "results = model('/home/cemmi/Documents/aicrowd-mos/data/test/0a44fd53-08c7-4690-9a11-614b53825576.jpeg')\n"
   ]
  },
  {
   "cell_type": "code",
   "execution_count": 16,
   "id": "40899e95",
   "metadata": {},
   "outputs": [
    {
     "name": "stderr",
     "output_type": "stream",
     "text": [
      "\n",
      "image 1/1 /home/cemmi/Documents/aicrowd-mos/data/test/0a8827e3-a08a-41a0-a4d0-fa2d719cbac9.jpeg: 1024x576 1 culex, 42.1ms\n",
      "Speed: 17.5ms preprocess, 42.1ms inference, 0.8ms postprocess per image at shape (1, 3, 1024, 576)\n",
      "Results saved to \u001b[1mruns/detect/predict\u001b[0m\n"
     ]
    },
    {
     "data": {
      "text/plain": [
       "[ultralytics.yolo.engine.results.Results object with attributes:\n",
       " \n",
       " boxes: ultralytics.yolo.engine.results.Boxes object\n",
       " keypoints: None\n",
       " keys: ['boxes']\n",
       " masks: None\n",
       " names: {0: 'albopictus', 1: 'culex', 2: 'japonicus/koreicus', 3: 'culiseta', 4: 'anopheles', 5: 'aegypti'}\n",
       " orig_img: array([[[101, 132, 153],\n",
       "         [103, 134, 155],\n",
       "         [102, 133, 154],\n",
       "         ...,\n",
       "         [ 91, 111, 146],\n",
       "         [ 91, 113, 148],\n",
       "         [ 93, 115, 150]],\n",
       " \n",
       "        [[ 99, 130, 151],\n",
       "         [102, 133, 154],\n",
       "         [104, 135, 156],\n",
       "         ...,\n",
       "         [ 95, 115, 150],\n",
       "         [ 93, 115, 150],\n",
       "         [ 90, 112, 147]],\n",
       " \n",
       "        [[ 99, 130, 151],\n",
       "         [ 98, 129, 150],\n",
       "         [102, 133, 154],\n",
       "         ...,\n",
       "         [ 98, 118, 153],\n",
       "         [ 95, 117, 152],\n",
       "         [ 91, 113, 148]],\n",
       " \n",
       "        ...,\n",
       " \n",
       "        [[ 29,  51,  69],\n",
       "         [ 27,  49,  67],\n",
       "         [ 30,  52,  70],\n",
       "         ...,\n",
       "         [ 26,  54,  71],\n",
       "         [ 29,  57,  74],\n",
       "         [ 29,  57,  74]],\n",
       " \n",
       "        [[ 32,  54,  72],\n",
       "         [ 29,  51,  69],\n",
       "         [ 31,  53,  71],\n",
       "         ...,\n",
       "         [ 24,  52,  69],\n",
       "         [ 28,  56,  73],\n",
       "         [ 27,  55,  72]],\n",
       " \n",
       "        [[ 31,  53,  71],\n",
       "         [ 32,  54,  72],\n",
       "         [ 33,  55,  73],\n",
       "         ...,\n",
       "         [ 22,  50,  67],\n",
       "         [ 26,  54,  71],\n",
       "         [ 23,  51,  68]]], dtype=uint8)\n",
       " orig_shape: (2560, 1440)\n",
       " path: '/home/cemmi/Documents/aicrowd-mos/data/test/0a8827e3-a08a-41a0-a4d0-fa2d719cbac9.jpeg'\n",
       " probs: None\n",
       " save_dir: 'runs/detect/predict'\n",
       " speed: {'preprocess': 17.522573471069336, 'inference': 42.105674743652344, 'postprocess': 0.8344650268554688}]"
      ]
     },
     "execution_count": 16,
     "metadata": {},
     "output_type": "execute_result"
    }
   ],
   "source": [
    "model.predict('/home/cemmi/Documents/aicrowd-mos/data/test/0a8827e3-a08a-41a0-a4d0-fa2d719cbac9.jpeg', \n",
    "              save=True, imgsz=1024, conf=0.5)\n"
   ]
  },
  {
   "cell_type": "code",
   "execution_count": 12,
   "id": "b575d43a",
   "metadata": {},
   "outputs": [
    {
     "name": "stdout",
     "output_type": "stream",
     "text": [
      "tensor([[2.5849e+02, 2.6387e+02, 6.2744e+02, 6.9237e+02, 6.1951e-01, 1.0000e+00]], device='cuda:0') None\n"
     ]
    }
   ],
   "source": [
    "# Process results list\n",
    "for result in results:\n",
    "    boxes = result.boxes.data  # Boxes object for bbox outputs\n",
    "    probs = result.probs  # Class probabilities for classification outputs\n",
    "    \n",
    "    print(boxes, probs)"
   ]
  },
  {
   "cell_type": "code",
   "execution_count": 10,
   "id": "32348888",
   "metadata": {},
   "outputs": [
    {
     "name": "stderr",
     "output_type": "stream",
     "text": [
      "WARNING ⚠️ 'Boxes.boxes' is deprecated. Use 'Boxes.data' instead.\n"
     ]
    },
    {
     "data": {
      "text/plain": [
       "ultralytics.yolo.engine.results.Boxes object with attributes:\n",
       "\n",
       "boxes: tensor([[2.5849e+02, 2.6387e+02, 6.2744e+02, 6.9237e+02, 6.1951e-01, 1.0000e+00]], device='cuda:0')\n",
       "cls: tensor([1.], device='cuda:0')\n",
       "conf: tensor([0.6195], device='cuda:0')\n",
       "data: tensor([[2.5849e+02, 2.6387e+02, 6.2744e+02, 6.9237e+02, 6.1951e-01, 1.0000e+00]], device='cuda:0')\n",
       "id: None\n",
       "is_track: False\n",
       "orig_shape: (857, 857)\n",
       "shape: torch.Size([1, 6])\n",
       "xywh: tensor([[442.9674, 478.1216, 368.9461, 428.5002]], device='cuda:0')\n",
       "xywhn: tensor([[0.5169, 0.5579, 0.4305, 0.5000]], device='cuda:0')\n",
       "xyxy: tensor([[258.4944, 263.8715, 627.4404, 692.3717]], device='cuda:0')\n",
       "xyxyn: tensor([[0.3016, 0.3079, 0.7321, 0.8079]], device='cuda:0')"
      ]
     },
     "execution_count": 10,
     "metadata": {},
     "output_type": "execute_result"
    }
   ],
   "source": [
    "result.boxes"
   ]
  },
  {
   "cell_type": "code",
   "execution_count": 13,
   "id": "68942491",
   "metadata": {},
   "outputs": [
    {
     "data": {
      "text/plain": [
       "[ultralytics.yolo.engine.results.Results object with attributes:\n",
       " \n",
       " boxes: ultralytics.yolo.engine.results.Boxes object\n",
       " keypoints: None\n",
       " keys: ['boxes']\n",
       " masks: None\n",
       " names: {0: 'albopictus', 1: 'culex', 2: 'japonicus/koreicus', 3: 'culiseta', 4: 'anopheles', 5: 'aegypti'}\n",
       " orig_img: array([[[134, 150, 157],\n",
       "         [134, 150, 157],\n",
       "         [135, 151, 158],\n",
       "         ...,\n",
       "         [144, 157, 165],\n",
       "         [144, 157, 165],\n",
       "         [142, 154, 164]],\n",
       " \n",
       "        [[134, 150, 157],\n",
       "         [134, 150, 157],\n",
       "         [135, 151, 158],\n",
       "         ...,\n",
       "         [143, 156, 164],\n",
       "         [143, 156, 164],\n",
       "         [143, 155, 165]],\n",
       " \n",
       "        [[135, 151, 158],\n",
       "         [135, 151, 158],\n",
       "         [134, 150, 157],\n",
       "         ...,\n",
       "         [142, 155, 163],\n",
       "         [141, 154, 162],\n",
       "         [142, 154, 164]],\n",
       " \n",
       "        ...,\n",
       " \n",
       "        [[127, 141, 147],\n",
       "         [127, 141, 147],\n",
       "         [127, 141, 147],\n",
       "         ...,\n",
       "         [131, 145, 151],\n",
       "         [133, 147, 153],\n",
       "         [130, 145, 148]],\n",
       " \n",
       "        [[127, 141, 147],\n",
       "         [127, 141, 147],\n",
       "         [127, 141, 147],\n",
       "         ...,\n",
       "         [130, 144, 150],\n",
       "         [132, 146, 152],\n",
       "         [129, 144, 147]],\n",
       " \n",
       "        [[128, 143, 146],\n",
       "         [128, 143, 146],\n",
       "         [128, 143, 146],\n",
       "         ...,\n",
       "         [130, 145, 148],\n",
       "         [131, 146, 149],\n",
       "         [131, 143, 149]]], dtype=uint8)\n",
       " orig_shape: (857, 857)\n",
       " path: '/home/cemmi/Documents/aicrowd-mos/data/test/0a44fd53-08c7-4690-9a11-614b53825576.jpeg'\n",
       " probs: None\n",
       " save_dir: None\n",
       " speed: {'preprocess': 2.8498172760009766, 'inference': 3.342866897583008, 'postprocess': 0.8029937744140625}]"
      ]
     },
     "execution_count": 13,
     "metadata": {},
     "output_type": "execute_result"
    }
   ],
   "source": [
    "results"
   ]
  },
  {
   "cell_type": "code",
   "execution_count": null,
   "id": "165d660d",
   "metadata": {},
   "outputs": [],
   "source": []
  }
 ],
 "metadata": {
  "kernelspec": {
   "display_name": "Python 3 (ipykernel)",
   "language": "python",
   "name": "python3"
  },
  "language_info": {
   "codemirror_mode": {
    "name": "ipython",
    "version": 3
   },
   "file_extension": ".py",
   "mimetype": "text/x-python",
   "name": "python",
   "nbconvert_exporter": "python",
   "pygments_lexer": "ipython3",
   "version": "3.9.16"
  }
 },
 "nbformat": 4,
 "nbformat_minor": 5
}
